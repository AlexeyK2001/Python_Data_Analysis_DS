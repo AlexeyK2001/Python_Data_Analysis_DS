{
  "nbformat": 4,
  "nbformat_minor": 0,
  "metadata": {
    "colab": {
      "provenance": []
    },
    "kernelspec": {
      "name": "python3",
      "display_name": "Python 3"
    },
    "language_info": {
      "name": "python"
    }
  },
  "cells": [
    {
      "cell_type": "code",
      "execution_count": 172,
      "metadata": {
        "colab": {
          "base_uri": "https://localhost:8080/"
        },
        "id": "vLiBsPeQ5WYR",
        "outputId": "e0e2ddb3-2139-44e5-dbfa-cd81304d8a0e"
      },
      "outputs": [
        {
          "output_type": "stream",
          "name": "stdout",
          "text": [
            "Drive already mounted at /content/drive; to attempt to forcibly remount, call drive.mount(\"/content/drive\", force_remount=True).\n"
          ]
        }
      ],
      "source": [
        "import warnings\n",
        "warnings.simplefilter('ignore')\n",
        "\n",
        "import pandas as pd\n",
        "from google.colab import drive\n",
        "drive.mount('/content/drive')\n",
        "data = pd.read_csv('/content/drive/MyDrive/magister_Python/index2022_changed.csv')"
      ]
    },
    {
      "cell_type": "code",
      "source": [
        "data.info()"
      ],
      "metadata": {
        "colab": {
          "base_uri": "https://localhost:8080/"
        },
        "id": "hdy2lpgR5mz5",
        "outputId": "92d40dfe-c1d4-4208-d754-b66db7f4e0bb"
      },
      "execution_count": 173,
      "outputs": [
        {
          "output_type": "stream",
          "name": "stdout",
          "text": [
            "<class 'pandas.core.frame.DataFrame'>\n",
            "RangeIndex: 170 entries, 0 to 169\n",
            "Data columns (total 15 columns):\n",
            " #   Column                       Non-Null Count  Dtype  \n",
            "---  ------                       --------------  -----  \n",
            " 0   Country Name                 170 non-null    object \n",
            " 1   Tariff Rate (%)              170 non-null    float64\n",
            " 2   Income Tax Rate (%)          170 non-null    float64\n",
            " 3   Corporate Tax Rate (%)       170 non-null    float64\n",
            " 4   Tax Burden % of GDP          170 non-null    float64\n",
            " 5   Gov't Expenditure % of GDP   170 non-null    float64\n",
            " 6   Population (Millions)        170 non-null    float64\n",
            " 7   GDP (Billions, PPP)          170 non-null    float64\n",
            " 8   GDP Growth Rate (%)          170 non-null    float64\n",
            " 9   5 Year GDP Growth Rate (%)   170 non-null    float64\n",
            " 10  GDP per Capita (PPP)         170 non-null    float64\n",
            " 11  Unemployment (%)             170 non-null    float64\n",
            " 12  Inflation (%)                170 non-null    float64\n",
            " 13  FDI Inflow (Millions)        170 non-null    object \n",
            " 14  Public Debt (% of GDP)       170 non-null    float64\n",
            "dtypes: float64(13), object(2)\n",
            "memory usage: 20.0+ KB\n"
          ]
        }
      ]
    },
    {
      "cell_type": "markdown",
      "source": [
        "Зробимо стовпчик  FDI Inflow (Millions) звичайним float стовпчиком:"
      ],
      "metadata": {
        "id": "ekQWwJWqGsrU"
      }
    },
    {
      "cell_type": "code",
      "source": [
        "import pandas as pd\n",
        "\n",
        "# Remove spaces and convert to float\n",
        "data['FDI Inflow (Millions)'] = data['FDI Inflow (Millions)'].str.replace(' ', '').astype(float)\n"
      ],
      "metadata": {
        "id": "BQzzLZ-m76_P"
      },
      "execution_count": 174,
      "outputs": []
    },
    {
      "cell_type": "code",
      "source": [
        "data.info()"
      ],
      "metadata": {
        "colab": {
          "base_uri": "https://localhost:8080/"
        },
        "id": "ikdGAVzc82xb",
        "outputId": "b0b0efd1-c651-484e-c87e-ef935e7f89e1"
      },
      "execution_count": 175,
      "outputs": [
        {
          "output_type": "stream",
          "name": "stdout",
          "text": [
            "<class 'pandas.core.frame.DataFrame'>\n",
            "RangeIndex: 170 entries, 0 to 169\n",
            "Data columns (total 15 columns):\n",
            " #   Column                       Non-Null Count  Dtype  \n",
            "---  ------                       --------------  -----  \n",
            " 0   Country Name                 170 non-null    object \n",
            " 1   Tariff Rate (%)              170 non-null    float64\n",
            " 2   Income Tax Rate (%)          170 non-null    float64\n",
            " 3   Corporate Tax Rate (%)       170 non-null    float64\n",
            " 4   Tax Burden % of GDP          170 non-null    float64\n",
            " 5   Gov't Expenditure % of GDP   170 non-null    float64\n",
            " 6   Population (Millions)        170 non-null    float64\n",
            " 7   GDP (Billions, PPP)          170 non-null    float64\n",
            " 8   GDP Growth Rate (%)          170 non-null    float64\n",
            " 9   5 Year GDP Growth Rate (%)   170 non-null    float64\n",
            " 10  GDP per Capita (PPP)         170 non-null    float64\n",
            " 11  Unemployment (%)             170 non-null    float64\n",
            " 12  Inflation (%)                170 non-null    float64\n",
            " 13  FDI Inflow (Millions)        170 non-null    float64\n",
            " 14  Public Debt (% of GDP)       170 non-null    float64\n",
            "dtypes: float64(14), object(1)\n",
            "memory usage: 20.0+ KB\n"
          ]
        }
      ]
    },
    {
      "cell_type": "code",
      "source": [
        "X = data.drop(['Country Name'], axis=1)\n",
        "y = data['Country Name']"
      ],
      "metadata": {
        "id": "c39udbAd849W"
      },
      "execution_count": 176,
      "outputs": []
    },
    {
      "cell_type": "markdown",
      "source": [
        "Стандартизуємо дані"
      ],
      "metadata": {
        "id": "gZrij4CwG7Y1"
      }
    },
    {
      "cell_type": "code",
      "source": [
        "import pandas as pd\n",
        "from sklearn.preprocessing import StandardScaler\n",
        "from sklearn.decomposition import PCA\n",
        "\n",
        "# Separate the 'Country Name' column\n",
        "country_names = data['Country Name']\n",
        "\n",
        "# Standardize the numeric features (excluding 'Country Name')\n",
        "numeric_features = data.drop('Country Name', axis=1)\n",
        "\n"
      ],
      "metadata": {
        "id": "VeM0td6CDTuo"
      },
      "execution_count": 177,
      "outputs": []
    },
    {
      "cell_type": "markdown",
      "source": [
        "Сформуємо головні компоненти"
      ],
      "metadata": {
        "id": "yUMCmMdnJyU3"
      }
    },
    {
      "cell_type": "code",
      "source": [
        "scaler = StandardScaler()\n",
        "numeric_features_standardized = scaler.fit_transform(numeric_features)\n",
        "\n",
        "# Perform PCA on the standardized numeric features\n",
        "pca = PCA(n_components=5)\n",
        "numeric_features_pca = pca.fit_transform(numeric_features_standardized)\n",
        "\n",
        "\n"
      ],
      "metadata": {
        "id": "EKGmlZR-Duq-"
      },
      "execution_count": 178,
      "outputs": []
    },
    {
      "cell_type": "code",
      "source": [
        "# Calculate the cumulative explained variance\n",
        "explained_variance_ratio = pca.explained_variance_ratio_\n",
        "cumulative_explained_variance = explained_variance_ratio.cumsum()\n",
        "\n",
        "# Create a DataFrame with the reduced features\n",
        "data_reduced = pd.DataFrame(numeric_features_pca, columns=[f'PC{i}' for i in range(1, 6)])\n",
        "\n",
        "# Add back the 'Country Name' column\n",
        "data_reduced['Country Name'] = country_names\n",
        "\n"
      ],
      "metadata": {
        "id": "7rXD7awvDwkG"
      },
      "execution_count": 179,
      "outputs": []
    },
    {
      "cell_type": "code",
      "source": [
        "# Print the explained variance ratios and cumulative explained variance\n",
        "print(\"Explained Variance Ratios for the Principal Components:\")\n",
        "print(explained_variance_ratio)\n",
        "print(\"\\nCumulative Explained Variance:\")\n",
        "print(cumulative_explained_variance)"
      ],
      "metadata": {
        "colab": {
          "base_uri": "https://localhost:8080/"
        },
        "id": "UPT_siF0D0tD",
        "outputId": "8a550882-1101-443a-ffe4-758229587649"
      },
      "execution_count": 180,
      "outputs": [
        {
          "output_type": "stream",
          "name": "stdout",
          "text": [
            "Explained Variance Ratios for the Principal Components:\n",
            "[0.19874096 0.18792627 0.16225165 0.12242448 0.07311431]\n",
            "\n",
            "Cumulative Explained Variance:\n",
            "[0.19874096 0.38666723 0.54891888 0.67134336 0.74445767]\n"
          ]
        }
      ]
    },
    {
      "cell_type": "markdown",
      "source": [
        "5 факторів пояснюють 75% початкової інформації"
      ],
      "metadata": {
        "id": "nhL0hW5IJ4ld"
      }
    },
    {
      "cell_type": "markdown",
      "source": [
        "Візуалізація внеску стовпців у формування головних компонент"
      ],
      "metadata": {
        "id": "ysq6wJjzJnWj"
      }
    },
    {
      "cell_type": "code",
      "source": [
        "import pandas as pd\n",
        "import numpy as np\n",
        "import matplotlib.pyplot as plt\n",
        "from sklearn.decomposition import PCA\n",
        "\n",
        "# Extract the features to analyze (excluding 'Country Name')\n",
        "features = data.drop(['Country Name'], axis=1)\n",
        "\n",
        "# Standardize the features\n",
        "standardized_features = (features - features.mean()) / features.std()\n",
        "\n",
        "# Perform PCA with 5 components\n",
        "pca = PCA(n_components=5)\n",
        "principal_components = pca.fit_transform(standardized_features)\n",
        "\n",
        "# Get the explained variance ratio for each component\n",
        "explained_variance_ratio = pca.explained_variance_ratio_\n",
        "\n",
        "# Create a DataFrame to visualize the loadings\n",
        "loadings_df = pd.DataFrame(pca.components_, columns=features.columns)\n",
        "\n",
        "# Plot the loadings\n",
        "plt.figure(figsize=(12, 6))\n",
        "plt.bar(range(len(features.columns)), loadings_df.iloc[0, :], alpha=0.7, label='PC1')\n",
        "plt.bar(range(len(features.columns)), loadings_df.iloc[1, :], alpha=0.7, label='PC2')\n",
        "plt.bar(range(len(features.columns)), loadings_df.iloc[2, :], alpha=0.7, label='PC3')\n",
        "plt.bar(range(len(features.columns)), loadings_df.iloc[3, :], alpha=0.7, label='PC4')\n",
        "plt.bar(range(len(features.columns)), loadings_df.iloc[4, :], alpha=0.7, label='PC5')\n",
        "plt.xticks(range(len(features.columns)), features.columns, rotation=90)\n",
        "plt.xlabel('Original Features')\n",
        "plt.ylabel('Loadings')\n",
        "plt.legend()\n",
        "plt.title('Loadings of Original Features in Principal Components')\n",
        "plt.show()"
      ],
      "metadata": {
        "colab": {
          "base_uri": "https://localhost:8080/",
          "height": 749
        },
        "id": "7ZGKmsLIJeQn",
        "outputId": "838fa97c-d064-4a55-8674-da25f842d142"
      },
      "execution_count": 181,
      "outputs": [
        {
          "output_type": "display_data",
          "data": {
            "text/plain": [
              "<Figure size 1200x600 with 1 Axes>"
            ],
            "image/png": "[encoded data removed]"
          },
          "metadata": {}
        }
      ]
    },
    {
      "cell_type": "markdown",
      "source": [
        "Виведення країн учасників кластеру та візуалізація кластерів за допомогою діаграми"
      ],
      "metadata": {
        "id": "hTboF5GGIOGm"
      }
    },
    {
      "cell_type": "code",
      "source": [
        "import pandas as pd\n",
        "from sklearn.cluster import KMeans\n",
        "import matplotlib.pyplot as plt\n",
        "\n",
        "# Extract the PCA components for clustering\n",
        "X = data_reduced[['PC1', 'PC2', 'PC3', 'PC4', 'PC5']]\n",
        "\n",
        "# Specify the number of clusters\n",
        "num_clusters = 3\n",
        "\n",
        "# Perform K-Means clustering\n",
        "kmeans = KMeans(n_clusters=num_clusters, random_state=0)\n",
        "kmeans.fit(X)\n",
        "\n",
        "# Add the cluster labels back to data\n",
        "data_reduced['Cluster'] = kmeans.labels_\n",
        "\n",
        "# Print the count of countries in each cluster\n",
        "print(data_reduced['Cluster'].value_counts())\n",
        "\n",
        "# A short description of the clusters\n",
        "cluster_descriptions = {\n",
        "    0: 'Cluster 1: ',\n",
        "    1: 'Cluster 2: ',\n",
        "    2: 'Cluster 3: ',\n",
        "}\n",
        "\n",
        "for cluster, description in cluster_descriptions.items():\n",
        "    print(f'\\n{description}')\n",
        "    print(data_reduced[data_reduced['Cluster'] == cluster]['Country Name'])\n",
        "\n",
        "# Visualize the clusters using scatter plots\n",
        "for cluster in range(num_clusters):\n",
        "    cluster_data = data_reduced[data_reduced['Cluster'] == cluster]\n",
        "    plt.scatter(cluster_data['PC1'], cluster_data['PC2'], label=f'Cluster {cluster}')\n",
        "\n",
        "plt.xlabel('PC1')\n",
        "plt.ylabel('PC1')\n",
        "plt.title('PCA Clusters')\n",
        "plt.legend()\n",
        "plt.show()\n"
      ],
      "metadata": {
        "colab": {
          "base_uri": "https://localhost:8080/",
          "height": 1000
        },
        "id": "eFuCmaBCETMn",
        "outputId": "e135f538-d2ea-499f-a360-e41974841268"
      },
      "execution_count": 182,
      "outputs": [
        {
          "output_type": "stream",
          "name": "stdout",
          "text": [
            "0    90\n",
            "1    77\n",
            "2     3\n",
            "Name: Cluster, dtype: int64\n",
            "\n",
            "Cluster 1: \n",
            "0                   Albania\n",
            "1                   Algeria\n",
            "3                 Argentina\n",
            "4                   Armenia\n",
            "5                 Australia\n",
            "               ...         \n",
            "160    United Arab Emirates\n",
            "161          United Kingdom\n",
            "163                 Uruguay\n",
            "165                 Vanuatu\n",
            "166               Venezuela\n",
            "Name: Country Name, Length: 90, dtype: object\n",
            "\n",
            "Cluster 2: \n",
            "2          Angola\n",
            "7      Azerbaijan\n",
            "10     Bangladesh\n",
            "15          Benin\n",
            "16         Bhutan\n",
            "          ...    \n",
            "158        Uganda\n",
            "164    Uzbekistan\n",
            "167       Vietnam\n",
            "168        Zambia\n",
            "169      Zimbabwe\n",
            "Name: Country Name, Length: 77, dtype: object\n",
            "\n",
            "Cluster 3: \n",
            "33             China\n",
            "71             India\n",
            "162    United States\n",
            "Name: Country Name, dtype: object\n"
          ]
        },
        {
          "output_type": "display_data",
          "data": {
            "text/plain": [
              "<Figure size 640x480 with 1 Axes>"
            ],
            "image/png": "[encoded data removed]"
          },
          "metadata": {}
        }
      ]
    },
    {
      "cell_type": "markdown",
      "source": [
        "Список країн за кластерами"
      ],
      "metadata": {
        "id": "x486fJ-fIZpJ"
      }
    },
    {
      "cell_type": "code",
      "source": [
        "import pandas as pd\n",
        "from sklearn.cluster import KMeans\n",
        "\n",
        "# Extract the PCA components for clustering\n",
        "X = data_reduced[['PC1', 'PC2', 'PC3', 'PC4', 'PC5']]\n",
        "\n",
        "# Specify the number of clusters\n",
        "num_clusters = 3\n",
        "\n",
        "# Perform K-Means clustering\n",
        "kmeans = KMeans(n_clusters=num_clusters, random_state=0)\n",
        "kmeans.fit(X)\n",
        "\n",
        "# Add the cluster labels back to data\n",
        "data_reduced['Cluster'] = kmeans.labels_\n",
        "\n",
        "# Create an empty dictionary to store cluster data\n",
        "cluster_data = {}\n",
        "\n",
        "# Iterate through clusters and populate the dictionary\n",
        "for cluster in range(num_clusters):\n",
        "    cluster_countries = data_reduced[data_reduced['Cluster'] == cluster]['Country Name'].tolist()\n",
        "    cluster_data[f'Cluster {cluster + 1}'] = cluster_countries\n",
        "\n",
        "# Create a DataFrame from the dictionary\n",
        "clustered_countries_df = pd.DataFrame.from_dict(cluster_data, orient='index').transpose()\n",
        "\n",
        "# Print the resulting DataFrame\n",
        "clustered_countries_df\n",
        "\n",
        "\n"
      ],
      "metadata": {
        "colab": {
          "base_uri": "https://localhost:8080/",
          "height": 424
        },
        "id": "QsKQ_KIyErrK",
        "outputId": "36a3745e-5615-4e23-c327-f3946bea7a8f"
      },
      "execution_count": 183,
      "outputs": [
        {
          "output_type": "execute_result",
          "data": {
            "text/plain": [
              "               Cluster 1   Cluster 2      Cluster 3\n",
              "0                Albania      Angola          China\n",
              "1                Algeria  Azerbaijan          India\n",
              "2              Argentina  Bangladesh  United States\n",
              "3                Armenia       Benin           None\n",
              "4              Australia      Bhutan           None\n",
              "..                   ...         ...            ...\n",
              "85  United Arab Emirates        None           None\n",
              "86        United Kingdom        None           None\n",
              "87               Uruguay        None           None\n",
              "88               Vanuatu        None           None\n",
              "89             Venezuela        None           None\n",
              "\n",
              "[90 rows x 3 columns]"
            ],
            "text/html": [
              "\n",
              "  <div id=\"df-6aa7ddff-1a88-404b-89c3-c3963ccd9600\" class=\"colab-df-container\">\n",
              "    <div>\n",
              "<style scoped>\n",
              "    .dataframe tbody tr th:only-of-type {\n",
              "        vertical-align: middle;\n",
              "    }\n",
              "\n",
              "    .dataframe tbody tr th {\n",
              "        vertical-align: top;\n",
              "    }\n",
              "\n",
              "    .dataframe thead th {\n",
              "        text-align: right;\n",
              "    }\n",
              "</style>\n",
              "<table border=\"1\" class=\"dataframe\">\n",
              "  <thead>\n",
              "    <tr style=\"text-align: right;\">\n",
              "      <th></th>\n",
              "      <th>Cluster 1</th>\n",
              "      <th>Cluster 2</th>\n",
              "      <th>Cluster 3</th>\n",
              "    </tr>\n",
              "  </thead>\n",
              "  <tbody>\n",
              "    <tr>\n",
              "      <th>0</th>\n",
              "      <td>Albania</td>\n",
              "      <td>Angola</td>\n",
              "      <td>China</td>\n",
              "    </tr>\n",
              "    <tr>\n",
              "      <th>1</th>\n",
              "      <td>Algeria</td>\n",
              "      <td>Azerbaijan</td>\n",
              "      <td>India</td>\n",
              "    </tr>\n",
              "    <tr>\n",
              "      <th>2</th>\n",
              "      <td>Argentina</td>\n",
              "      <td>Bangladesh</td>\n",
              "      <td>United States</td>\n",
              "    </tr>\n",
              "    <tr>\n",
              "      <th>3</th>\n",
              "      <td>Armenia</td>\n",
              "      <td>Benin</td>\n",
              "      <td>None</td>\n",
              "    </tr>\n",
              "    <tr>\n",
              "      <th>4</th>\n",
              "      <td>Australia</td>\n",
              "      <td>Bhutan</td>\n",
              "      <td>None</td>\n",
              "    </tr>\n",
              "    <tr>\n",
              "      <th>...</th>\n",
              "      <td>...</td>\n",
              "      <td>...</td>\n",
              "      <td>...</td>\n",
              "    </tr>\n",
              "    <tr>\n",
              "      <th>85</th>\n",
              "      <td>United Arab Emirates</td>\n",
              "      <td>None</td>\n",
              "      <td>None</td>\n",
              "    </tr>\n",
              "    <tr>\n",
              "      <th>86</th>\n",
              "      <td>United Kingdom</td>\n",
              "      <td>None</td>\n",
              "      <td>None</td>\n",
              "    </tr>\n",
              "    <tr>\n",
              "      <th>87</th>\n",
              "      <td>Uruguay</td>\n",
              "      <td>None</td>\n",
              "      <td>None</td>\n",
              "    </tr>\n",
              "    <tr>\n",
              "      <th>88</th>\n",
              "      <td>Vanuatu</td>\n",
              "      <td>None</td>\n",
              "      <td>None</td>\n",
              "    </tr>\n",
              "    <tr>\n",
              "      <th>89</th>\n",
              "      <td>Venezuela</td>\n",
              "      <td>None</td>\n",
              "      <td>None</td>\n",
              "    </tr>\n",
              "  </tbody>\n",
              "</table>\n",
              "<p>90 rows × 3 columns</p>\n",
              "</div>\n",
              "    <div class=\"colab-df-buttons\">\n",
              "\n",
              "  <div class=\"colab-df-container\">\n",
              "    <button class=\"colab-df-convert\" onclick=\"convertToInteractive('df-6aa7ddff-1a88-404b-89c3-c3963ccd9600')\"\n",
              "            title=\"Convert this dataframe to an interactive table.\"\n",
              "            style=\"display:none;\">\n",
              "\n",
              "  <svg xmlns=\"http://www.w3.org/2000/svg\" height=\"24px\" viewBox=\"0 -960 960 960\">\n",
              "    <path d=\"M120-120v-720h720v720H120Zm60-500h600v-160H180v160Zm220 220h160v-160H400v160Zm0 220h160v-160H400v160ZM180-400h160v-160H180v160Zm440 0h160v-160H620v160ZM180-180h160v-160H180v160Zm440 0h160v-160H620v160Z\"/>\n",
              "  </svg>\n",
              "    </button>\n",
              "\n",
              "  <style>\n",
              "    .colab-df-container {\n",
              "      display:flex;\n",
              "      gap: 12px;\n",
              "    }\n",
              "\n",
              "    .colab-df-convert {\n",
              "      background-color: #E8F0FE;\n",
              "      border: none;\n",
              "      border-radius: 50%;\n",
              "      cursor: pointer;\n",
              "      display: none;\n",
              "      fill: #1967D2;\n",
              "      height: 32px;\n",
              "      padding: 0 0 0 0;\n",
              "      width: 32px;\n",
              "    }\n",
              "\n",
              "    .colab-df-convert:hover {\n",
              "      background-color: #E2EBFA;\n",
              "      box-shadow: 0px 1px 2px rgba(60, 64, 67, 0.3), 0px 1px 3px 1px rgba(60, 64, 67, 0.15);\n",
              "      fill: #174EA6;\n",
              "    }\n",
              "\n",
              "    .colab-df-buttons div {\n",
              "      margin-bottom: 4px;\n",
              "    }\n",
              "\n",
              "    [theme=dark] .colab-df-convert {\n",
              "      background-color: #3B4455;\n",
              "      fill: #D2E3FC;\n",
              "    }\n",
              "\n",
              "    [theme=dark] .colab-df-convert:hover {\n",
              "      background-color: #434B5C;\n",
              "      box-shadow: 0px 1px 3px 1px rgba(0, 0, 0, 0.15);\n",
              "      filter: drop-shadow(0px 1px 2px rgba(0, 0, 0, 0.3));\n",
              "      fill: #FFFFFF;\n",
              "    }\n",
              "  </style>\n",
              "\n",
              "    <script>\n",
              "      const buttonEl =\n",
              "        document.querySelector('#df-6aa7ddff-1a88-404b-89c3-c3963ccd9600 button.colab-df-convert');\n",
              "      buttonEl.style.display =\n",
              "        google.colab.kernel.accessAllowed ? 'block' : 'none';\n",
              "\n",
              "      async function convertToInteractive(key) {\n",
              "        const element = document.querySelector('#df-6aa7ddff-1a88-404b-89c3-c3963ccd9600');\n",
              "        const dataTable =\n",
              "          await google.colab.kernel.invokeFunction('convertToInteractive',\n",
              "                                                    [key], {});\n",
              "        if (!dataTable) return;\n",
              "\n",
              "        const docLinkHtml = 'Like what you see? Visit the ' +\n",
              "          '<a target=\"_blank\" href=https://colab.research.google.com/notebooks/data_table.ipynb>data table notebook</a>'\n",
              "          + ' to learn more about interactive tables.';\n",
              "        element.innerHTML = '';\n",
              "        dataTable['output_type'] = 'display_data';\n",
              "        await google.colab.output.renderOutput(dataTable, element);\n",
              "        const docLink = document.createElement('div');\n",
              "        docLink.innerHTML = docLinkHtml;\n",
              "        element.appendChild(docLink);\n",
              "      }\n",
              "    </script>\n",
              "  </div>\n",
              "\n",
              "\n",
              "<div id=\"df-e48399e6-9749-413d-8c55-896813cdf2ce\">\n",
              "  <button class=\"colab-df-quickchart\" onclick=\"quickchart('df-e48399e6-9749-413d-8c55-896813cdf2ce')\"\n",
              "            title=\"Suggest charts.\"\n",
              "            style=\"display:none;\">\n",
              "\n",
              "<svg xmlns=\"http://www.w3.org/2000/svg\" height=\"24px\"viewBox=\"0 0 24 24\"\n",
              "     width=\"24px\">\n",
              "    <g>\n",
              "        <path d=\"M19 3H5c-1.1 0-2 .9-2 2v14c0 1.1.9 2 2 2h14c1.1 0 2-.9 2-2V5c0-1.1-.9-2-2-2zM9 17H7v-7h2v7zm4 0h-2V7h2v10zm4 0h-2v-4h2v4z\"/>\n",
              "    </g>\n",
              "</svg>\n",
              "  </button>\n",
              "\n",
              "<style>\n",
              "  .colab-df-quickchart {\n",
              "      --bg-color: #E8F0FE;\n",
              "      --fill-color: #1967D2;\n",
              "      --hover-bg-color: #E2EBFA;\n",
              "      --hover-fill-color: #174EA6;\n",
              "      --disabled-fill-color: #AAA;\n",
              "      --disabled-bg-color: #DDD;\n",
              "  }\n",
              "\n",
              "  [theme=dark] .colab-df-quickchart {\n",
              "      --bg-color: #3B4455;\n",
              "      --fill-color: #D2E3FC;\n",
              "      --hover-bg-color: #434B5C;\n",
              "      --hover-fill-color: #FFFFFF;\n",
              "      --disabled-bg-color: #3B4455;\n",
              "      --disabled-fill-color: #666;\n",
              "  }\n",
              "\n",
              "  .colab-df-quickchart {\n",
              "    background-color: var(--bg-color);\n",
              "    border: none;\n",
              "    border-radius: 50%;\n",
              "    cursor: pointer;\n",
              "    display: none;\n",
              "    fill: var(--fill-color);\n",
              "    height: 32px;\n",
              "    padding: 0;\n",
              "    width: 32px;\n",
              "  }\n",
              "\n",
              "  .colab-df-quickchart:hover {\n",
              "    background-color: var(--hover-bg-color);\n",
              "    box-shadow: 0 1px 2px rgba(60, 64, 67, 0.3), 0 1px 3px 1px rgba(60, 64, 67, 0.15);\n",
              "    fill: var(--button-hover-fill-color);\n",
              "  }\n",
              "\n",
              "  .colab-df-quickchart-complete:disabled,\n",
              "  .colab-df-quickchart-complete:disabled:hover {\n",
              "    background-color: var(--disabled-bg-color);\n",
              "    fill: var(--disabled-fill-color);\n",
              "    box-shadow: none;\n",
              "  }\n",
              "\n",
              "  .colab-df-spinner {\n",
              "    border: 2px solid var(--fill-color);\n",
              "    border-color: transparent;\n",
              "    border-bottom-color: var(--fill-color);\n",
              "    animation:\n",
              "      spin 1s steps(1) infinite;\n",
              "  }\n",
              "\n",
              "  @keyframes spin {\n",
              "    0% {\n",
              "      border-color: transparent;\n",
              "      border-bottom-color: var(--fill-color);\n",
              "      border-left-color: var(--fill-color);\n",
              "    }\n",
              "    20% {\n",
              "      border-color: transparent;\n",
              "      border-left-color: var(--fill-color);\n",
              "      border-top-color: var(--fill-color);\n",
              "    }\n",
              "    30% {\n",
              "      border-color: transparent;\n",
              "      border-left-color: var(--fill-color);\n",
              "      border-top-color: var(--fill-color);\n",
              "      border-right-color: var(--fill-color);\n",
              "    }\n",
              "    40% {\n",
              "      border-color: transparent;\n",
              "      border-right-color: var(--fill-color);\n",
              "      border-top-color: var(--fill-color);\n",
              "    }\n",
              "    60% {\n",
              "      border-color: transparent;\n",
              "      border-right-color: var(--fill-color);\n",
              "    }\n",
              "    80% {\n",
              "      border-color: transparent;\n",
              "      border-right-color: var(--fill-color);\n",
              "      border-bottom-color: var(--fill-color);\n",
              "    }\n",
              "    90% {\n",
              "      border-color: transparent;\n",
              "      border-bottom-color: var(--fill-color);\n",
              "    }\n",
              "  }\n",
              "</style>\n",
              "\n",
              "  <script>\n",
              "    async function quickchart(key) {\n",
              "      const quickchartButtonEl =\n",
              "        document.querySelector('#' + key + ' button');\n",
              "      quickchartButtonEl.disabled = true;  // To prevent multiple clicks.\n",
              "      quickchartButtonEl.classList.add('colab-df-spinner');\n",
              "      try {\n",
              "        const charts = await google.colab.kernel.invokeFunction(\n",
              "            'suggestCharts', [key], {});\n",
              "      } catch (error) {\n",
              "        console.error('Error during call to suggestCharts:', error);\n",
              "      }\n",
              "      quickchartButtonEl.classList.remove('colab-df-spinner');\n",
              "      quickchartButtonEl.classList.add('colab-df-quickchart-complete');\n",
              "    }\n",
              "    (() => {\n",
              "      let quickchartButtonEl =\n",
              "        document.querySelector('#df-e48399e6-9749-413d-8c55-896813cdf2ce button');\n",
              "      quickchartButtonEl.style.display =\n",
              "        google.colab.kernel.accessAllowed ? 'block' : 'none';\n",
              "    })();\n",
              "  </script>\n",
              "</div>\n",
              "    </div>\n",
              "  </div>\n"
            ]
          },
          "metadata": {},
          "execution_count": 183
        }
      ]
    },
    {
      "cell_type": "code",
      "source": [
        "clustered_countries_lists = []\n",
        "for cluster in range(num_clusters):\n",
        "    cluster_countries = data_reduced[data_reduced['Cluster'] == cluster]['Country Name'].tolist()\n",
        "    clustered_countries_lists.append(cluster_countries)\n",
        "\n",
        "# Print the lists of countries within each cluster\n",
        "for i, cluster_countries in enumerate(clustered_countries_lists, 1):\n",
        "    print(f'Cluster {i} Countries:')\n",
        "    print(cluster_countries)\n",
        "    print()"
      ],
      "metadata": {
        "colab": {
          "base_uri": "https://localhost:8080/"
        },
        "id": "Xtb5lQInGjPI",
        "outputId": "8ef3dc21-564d-4193-e4da-96b616977e12"
      },
      "execution_count": 184,
      "outputs": [
        {
          "output_type": "stream",
          "name": "stdout",
          "text": [
            "Cluster 1 Countries:\n",
            "['Albania', 'Algeria', 'Argentina', 'Armenia', 'Australia', 'Austria', 'Bahamas', 'Bahrain', 'Barbados', 'Belarus', 'Belgium', 'Belize', 'Bolivia', 'Bosnia and Herzegovina', 'Botswana', 'Brazil', 'Brunei Darussalam', 'Bulgaria', 'Canada', 'Cabo Verde', 'Colombia', 'Costa Rica', 'Croatia', 'Cyprus', 'Czech Republic', 'Denmark', 'Ecuador', 'Eritrea', 'Estonia', 'Eswatini', 'Fiji', 'Finland', 'France', 'Georgia', 'Germany', 'Greece', 'Hungary', 'Iceland', 'Ireland', 'Israel', 'Italy', 'Jamaica', 'Japan', 'Jordan', 'Kuwait', 'Kyrgyz Republic', 'Latvia', 'Lebanon', 'Lesotho', 'Lithuania', 'Luxembourg', 'North Macedonia', 'Maldives', 'Malta', 'Mauritius', 'Moldova', 'Montenegro', 'Morocco', 'Namibia', 'Netherlands', 'New Zealand', 'Norway', 'Oman', 'Panama', 'Poland', 'Portugal', 'Qatar', 'Romania', 'Saint Lucia', 'Saint Vincent and the Grenadines', 'Saudi Arabia', 'Serbia', 'Singapore', 'Slovakia', 'Slovenia', 'South Africa', 'Spain', 'Suriname', 'Sweden', 'Switzerland', 'Timor-Leste', 'Trinidad and Tobago', 'Tunisia', 'Turkey', 'Ukraine', 'United Arab Emirates', 'United Kingdom', 'Uruguay', 'Vanuatu', 'Venezuela']\n",
            "\n",
            "Cluster 2 Countries:\n",
            "['Angola', 'Azerbaijan', 'Bangladesh', 'Benin', 'Bhutan', 'Burkina Faso', 'Burma', 'Burundi', 'Cambodia', 'Cameroon', 'Central African Republic', 'Chad', 'Chile', 'Comoros', 'Congo, Democratic Republic of the Congo', 'Congo, Republic of', \"C?te d'Ivoire\", 'Djibouti', 'Dominican Republic', 'Egypt', 'El Salvador', 'Equatorial Guinea', 'Ethiopia', 'Gabon', 'Gambia', 'Ghana', 'Guatemala', 'Guinea', 'Guinea-Bissau', 'Guyana', 'Haiti', 'Honduras', 'Indonesia', 'Iran', 'Kazakhstan', 'Kenya', 'Korea, South', 'Laos', 'Liberia', 'Madagascar', 'Malawi', 'Malaysia', 'Mali', 'Mauritania', 'Mexico', 'Mongolia', 'Mozambique', 'Nepal', 'Nicaragua', 'Niger', 'Nigeria', 'Pakistan', 'Papua New Guinea', 'Paraguay', 'Peru', 'Philippines', 'Russia', 'Rwanda', 'Samoa', 'S?o Tom? and Pr?ncipe', 'Senegal', 'Sierra Leone', 'Solomon Islands', 'Sri Lanka', 'Sudan', 'Taiwan ', 'Tajikistan', 'Tanzania', 'Thailand', 'Togo', 'Tonga', 'Turkmenistan', 'Uganda', 'Uzbekistan', 'Vietnam', 'Zambia', 'Zimbabwe']\n",
            "\n",
            "Cluster 3 Countries:\n",
            "['China', 'India', 'United States']\n",
            "\n"
          ]
        }
      ]
    }
  ]
}
