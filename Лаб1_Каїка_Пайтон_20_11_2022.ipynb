{
  "cells": [
    {
      "cell_type": "code",
      "execution_count": null,
      "metadata": {
        "id": "drwfuk4wXs4G"
      },
      "outputs": [],
      "source": [
        "#імпортуємо бібліотеки\n",
        "import pandas as pd\n",
        "pd.options.display.float_format = '{:.2f}'.format\n",
        "import matplotlib\n",
        "import numpy as np\n",
        "import matplotlib.pyplot as plt\n",
        "import seaborn as sns"
      ]
    },
    {
      "cell_type": "code",
      "source": [
        "from google.colab import files\n",
        "import io\n",
        "uploaded = files.upload()\n",
        "data = pd.read_csv(io.BytesIO(uploaded['world-happiness-report-2021.csv']))\n"
      ],
      "metadata": {
        "colab": {
          "base_uri": "https://localhost:8080/",
          "height": 74
        },
        "id": "pksuKbCGaHx0",
        "outputId": "9b87af6b-8fca-4327-cc2c-b279c59b55c3"
      },
      "execution_count": null,
      "outputs": [
        {
          "output_type": "display_data",
          "data": {
            "text/plain": [
              "<IPython.core.display.HTML object>"
            ],
            "text/html": [
              "\n",
              "     <input type=\"file\" id=\"files-bb3d24b5-e35e-464d-8a32-3240e9300062\" name=\"files[]\" multiple disabled\n",
              "        style=\"border:none\" />\n",
              "     <output id=\"result-bb3d24b5-e35e-464d-8a32-3240e9300062\">\n",
              "      Upload widget is only available when the cell has been executed in the\n",
              "      current browser session. Please rerun this cell to enable.\n",
              "      </output>\n",
              "      <script>// Copyright 2017 Google LLC\n",
              "//\n",
              "// Licensed under the Apache License, Version 2.0 (the \"License\");\n",
              "// you may not use this file except in compliance with the License.\n",
              "// You may obtain a copy of the License at\n",
              "//\n",
              "//      http://www.apache.org/licenses/LICENSE-2.0\n",
              "//\n",
              "// Unless required by applicable law or agreed to in writing, software\n",
              "// distributed under the License is distributed on an \"AS IS\" BASIS,\n",
              "// WITHOUT WARRANTIES OR CONDITIONS OF ANY KIND, either express or implied.\n",
              "// See the License for the specific language governing permissions and\n",
              "// limitations under the License.\n",
              "\n",
              "/**\n",
              " * @fileoverview Helpers for google.colab Python module.\n",
              " */\n",
              "(function(scope) {\n",
              "function span(text, styleAttributes = {}) {\n",
              "  const element = document.createElement('span');\n",
              "  element.textContent = text;\n",
              "  for (const key of Object.keys(styleAttributes)) {\n",
              "    element.style[key] = styleAttributes[key];\n",
              "  }\n",
              "  return element;\n",
              "}\n",
              "\n",
              "// Max number of bytes which will be uploaded at a time.\n",
              "const MAX_PAYLOAD_SIZE = 100 * 1024;\n",
              "\n",
              "function _uploadFiles(inputId, outputId) {\n",
              "  const steps = uploadFilesStep(inputId, outputId);\n",
              "  const outputElement = document.getElementById(outputId);\n",
              "  // Cache steps on the outputElement to make it available for the next call\n",
              "  // to uploadFilesContinue from Python.\n",
              "  outputElement.steps = steps;\n",
              "\n",
              "  return _uploadFilesContinue(outputId);\n",
              "}\n",
              "\n",
              "// This is roughly an async generator (not supported in the browser yet),\n",
              "// where there are multiple asynchronous steps and the Python side is going\n",
              "// to poll for completion of each step.\n",
              "// This uses a Promise to block the python side on completion of each step,\n",
              "// then passes the result of the previous step as the input to the next step.\n",
              "function _uploadFilesContinue(outputId) {\n",
              "  const outputElement = document.getElementById(outputId);\n",
              "  const steps = outputElement.steps;\n",
              "\n",
              "  const next = steps.next(outputElement.lastPromiseValue);\n",
              "  return Promise.resolve(next.value.promise).then((value) => {\n",
              "    // Cache the last promise value to make it available to the next\n",
              "    // step of the generator.\n",
              "    outputElement.lastPromiseValue = value;\n",
              "    return next.value.response;\n",
              "  });\n",
              "}\n",
              "\n",
              "/**\n",
              " * Generator function which is called between each async step of the upload\n",
              " * process.\n",
              " * @param {string} inputId Element ID of the input file picker element.\n",
              " * @param {string} outputId Element ID of the output display.\n",
              " * @return {!Iterable<!Object>} Iterable of next steps.\n",
              " */\n",
              "function* uploadFilesStep(inputId, outputId) {\n",
              "  const inputElement = document.getElementById(inputId);\n",
              "  inputElement.disabled = false;\n",
              "\n",
              "  const outputElement = document.getElementById(outputId);\n",
              "  outputElement.innerHTML = '';\n",
              "\n",
              "  const pickedPromise = new Promise((resolve) => {\n",
              "    inputElement.addEventListener('change', (e) => {\n",
              "      resolve(e.target.files);\n",
              "    });\n",
              "  });\n",
              "\n",
              "  const cancel = document.createElement('button');\n",
              "  inputElement.parentElement.appendChild(cancel);\n",
              "  cancel.textContent = 'Cancel upload';\n",
              "  const cancelPromise = new Promise((resolve) => {\n",
              "    cancel.onclick = () => {\n",
              "      resolve(null);\n",
              "    };\n",
              "  });\n",
              "\n",
              "  // Wait for the user to pick the files.\n",
              "  const files = yield {\n",
              "    promise: Promise.race([pickedPromise, cancelPromise]),\n",
              "    response: {\n",
              "      action: 'starting',\n",
              "    }\n",
              "  };\n",
              "\n",
              "  cancel.remove();\n",
              "\n",
              "  // Disable the input element since further picks are not allowed.\n",
              "  inputElement.disabled = true;\n",
              "\n",
              "  if (!files) {\n",
              "    return {\n",
              "      response: {\n",
              "        action: 'complete',\n",
              "      }\n",
              "    };\n",
              "  }\n",
              "\n",
              "  for (const file of files) {\n",
              "    const li = document.createElement('li');\n",
              "    li.append(span(file.name, {fontWeight: 'bold'}));\n",
              "    li.append(span(\n",
              "        `(${file.type || 'n/a'}) - ${file.size} bytes, ` +\n",
              "        `last modified: ${\n",
              "            file.lastModifiedDate ? file.lastModifiedDate.toLocaleDateString() :\n",
              "                                    'n/a'} - `));\n",
              "    const percent = span('0% done');\n",
              "    li.appendChild(percent);\n",
              "\n",
              "    outputElement.appendChild(li);\n",
              "\n",
              "    const fileDataPromise = new Promise((resolve) => {\n",
              "      const reader = new FileReader();\n",
              "      reader.onload = (e) => {\n",
              "        resolve(e.target.result);\n",
              "      };\n",
              "      reader.readAsArrayBuffer(file);\n",
              "    });\n",
              "    // Wait for the data to be ready.\n",
              "    let fileData = yield {\n",
              "      promise: fileDataPromise,\n",
              "      response: {\n",
              "        action: 'continue',\n",
              "      }\n",
              "    };\n",
              "\n",
              "    // Use a chunked sending to avoid message size limits. See b/62115660.\n",
              "    let position = 0;\n",
              "    do {\n",
              "      const length = Math.min(fileData.byteLength - position, MAX_PAYLOAD_SIZE);\n",
              "      const chunk = new Uint8Array(fileData, position, length);\n",
              "      position += length;\n",
              "\n",
              "      const base64 = btoa(String.fromCharCode.apply(null, chunk));\n",
              "      yield {\n",
              "        response: {\n",
              "          action: 'append',\n",
              "          file: file.name,\n",
              "          data: base64,\n",
              "        },\n",
              "      };\n",
              "\n",
              "      let percentDone = fileData.byteLength === 0 ?\n",
              "          100 :\n",
              "          Math.round((position / fileData.byteLength) * 100);\n",
              "      percent.textContent = `${percentDone}% done`;\n",
              "\n",
              "    } while (position < fileData.byteLength);\n",
              "  }\n",
              "\n",
              "  // All done.\n",
              "  yield {\n",
              "    response: {\n",
              "      action: 'complete',\n",
              "    }\n",
              "  };\n",
              "}\n",
              "\n",
              "scope.google = scope.google || {};\n",
              "scope.google.colab = scope.google.colab || {};\n",
              "scope.google.colab._files = {\n",
              "  _uploadFiles,\n",
              "  _uploadFilesContinue,\n",
              "};\n",
              "})(self);\n",
              "</script> "
            ]
          },
          "metadata": {}
        },
        {
          "output_type": "stream",
          "name": "stdout",
          "text": [
            "Saving world-happiness-report-2021.csv to world-happiness-report-2021 (3).csv\n"
          ]
        }
      ]
    },
    {
      "cell_type": "code",
      "execution_count": null,
      "metadata": {
        "id": "jyEHODbgXs4L",
        "outputId": "87d6a18a-2bb2-491f-d576-c03e6350a83d",
        "colab": {
          "base_uri": "https://localhost:8080/"
        }
      },
      "outputs": [
        {
          "output_type": "stream",
          "name": "stdout",
          "text": [
            "<class 'pandas.core.frame.DataFrame'>\n",
            "RangeIndex: 149 entries, 0 to 148\n",
            "Data columns (total 20 columns):\n",
            " #   Column                                      Non-Null Count  Dtype  \n",
            "---  ------                                      --------------  -----  \n",
            " 0   Country name                                149 non-null    object \n",
            " 1   Regional indicator                          149 non-null    object \n",
            " 2   Ladder score                                149 non-null    float64\n",
            " 3   Standard error of ladder score              149 non-null    float64\n",
            " 4   upperwhisker                                149 non-null    float64\n",
            " 5   lowerwhisker                                149 non-null    float64\n",
            " 6   Logged GDP per capita                       149 non-null    float64\n",
            " 7   Social support                              149 non-null    float64\n",
            " 8   Healthy life expectancy                     149 non-null    float64\n",
            " 9   Freedom to make life choices                149 non-null    float64\n",
            " 10  Generosity                                  149 non-null    float64\n",
            " 11  Perceptions of corruption                   149 non-null    float64\n",
            " 12  Ladder score in Dystopia                    149 non-null    float64\n",
            " 13  Explained by: Log GDP per capita            149 non-null    float64\n",
            " 14  Explained by: Social support                149 non-null    float64\n",
            " 15  Explained by: Healthy life expectancy       149 non-null    float64\n",
            " 16  Explained by: Freedom to make life choices  149 non-null    float64\n",
            " 17  Explained by: Generosity                    149 non-null    float64\n",
            " 18  Explained by: Perceptions of corruption     149 non-null    float64\n",
            " 19  Dystopia + residual                         149 non-null    float64\n",
            "dtypes: float64(18), object(2)\n",
            "memory usage: 23.4+ KB\n"
          ]
        }
      ],
      "source": [
        "data.info()"
      ]
    },
    {
      "cell_type": "code",
      "execution_count": null,
      "metadata": {
        "id": "2EkjXmRVXs4M",
        "outputId": "213ddbec-3969-45b9-ccef-e43a3f98da8b",
        "colab": {
          "base_uri": "https://localhost:8080/",
          "height": 485
        }
      },
      "outputs": [
        {
          "output_type": "execute_result",
          "data": {
            "text/plain": [
              "    Country name  Regional indicator  Ladder score  Logged GDP per capita  \\\n",
              "0        Finland      Western Europe          7.84                  10.78   \n",
              "1        Denmark      Western Europe          7.62                  10.93   \n",
              "2    Switzerland      Western Europe          7.57                  11.12   \n",
              "3        Iceland      Western Europe          7.55                  10.88   \n",
              "4    Netherlands      Western Europe          7.46                  10.93   \n",
              "..           ...                 ...           ...                    ...   \n",
              "144      Lesotho  Sub-Saharan Africa          3.51                   7.93   \n",
              "145     Botswana  Sub-Saharan Africa          3.47                   9.78   \n",
              "146       Rwanda  Sub-Saharan Africa          3.42                   7.68   \n",
              "147     Zimbabwe  Sub-Saharan Africa          3.15                   7.94   \n",
              "148  Afghanistan          South Asia          2.52                   7.70   \n",
              "\n",
              "     Social support  Healthy life expectancy  Freedom to make life choices  \\\n",
              "0              0.95                    72.00                          0.95   \n",
              "1              0.95                    72.70                          0.95   \n",
              "2              0.94                    74.40                          0.92   \n",
              "3              0.98                    73.00                          0.95   \n",
              "4              0.94                    72.40                          0.91   \n",
              "..              ...                      ...                           ...   \n",
              "144            0.79                    48.70                          0.71   \n",
              "145            0.78                    59.27                          0.82   \n",
              "146            0.55                    61.40                          0.90   \n",
              "147            0.75                    56.20                          0.68   \n",
              "148            0.46                    52.49                          0.38   \n",
              "\n",
              "     Generosity  Perceptions of corruption  \n",
              "0         -0.10                       0.19  \n",
              "1          0.03                       0.18  \n",
              "2          0.03                       0.29  \n",
              "3          0.16                       0.67  \n",
              "4          0.17                       0.34  \n",
              "..          ...                        ...  \n",
              "144       -0.13                       0.92  \n",
              "145       -0.25                       0.80  \n",
              "146        0.06                       0.17  \n",
              "147       -0.05                       0.82  \n",
              "148       -0.10                       0.92  \n",
              "\n",
              "[149 rows x 9 columns]"
            ],
            "text/html": [
              "\n",
              "  <div id=\"df-cd47ffeb-b706-4826-863c-92d01b906241\">\n",
              "    <div class=\"colab-df-container\">\n",
              "      <div>\n",
              "<style scoped>\n",
              "    .dataframe tbody tr th:only-of-type {\n",
              "        vertical-align: middle;\n",
              "    }\n",
              "\n",
              "    .dataframe tbody tr th {\n",
              "        vertical-align: top;\n",
              "    }\n",
              "\n",
              "    .dataframe thead th {\n",
              "        text-align: right;\n",
              "    }\n",
              "</style>\n",
              "<table border=\"1\" class=\"dataframe\">\n",
              "  <thead>\n",
              "    <tr style=\"text-align: right;\">\n",
              "      <th></th>\n",
              "      <th>Country name</th>\n",
              "      <th>Regional indicator</th>\n",
              "      <th>Ladder score</th>\n",
              "      <th>Logged GDP per capita</th>\n",
              "      <th>Social support</th>\n",
              "      <th>Healthy life expectancy</th>\n",
              "      <th>Freedom to make life choices</th>\n",
              "      <th>Generosity</th>\n",
              "      <th>Perceptions of corruption</th>\n",
              "    </tr>\n",
              "  </thead>\n",
              "  <tbody>\n",
              "    <tr>\n",
              "      <th>0</th>\n",
              "      <td>Finland</td>\n",
              "      <td>Western Europe</td>\n",
              "      <td>7.84</td>\n",
              "      <td>10.78</td>\n",
              "      <td>0.95</td>\n",
              "      <td>72.00</td>\n",
              "      <td>0.95</td>\n",
              "      <td>-0.10</td>\n",
              "      <td>0.19</td>\n",
              "    </tr>\n",
              "    <tr>\n",
              "      <th>1</th>\n",
              "      <td>Denmark</td>\n",
              "      <td>Western Europe</td>\n",
              "      <td>7.62</td>\n",
              "      <td>10.93</td>\n",
              "      <td>0.95</td>\n",
              "      <td>72.70</td>\n",
              "      <td>0.95</td>\n",
              "      <td>0.03</td>\n",
              "      <td>0.18</td>\n",
              "    </tr>\n",
              "    <tr>\n",
              "      <th>2</th>\n",
              "      <td>Switzerland</td>\n",
              "      <td>Western Europe</td>\n",
              "      <td>7.57</td>\n",
              "      <td>11.12</td>\n",
              "      <td>0.94</td>\n",
              "      <td>74.40</td>\n",
              "      <td>0.92</td>\n",
              "      <td>0.03</td>\n",
              "      <td>0.29</td>\n",
              "    </tr>\n",
              "    <tr>\n",
              "      <th>3</th>\n",
              "      <td>Iceland</td>\n",
              "      <td>Western Europe</td>\n",
              "      <td>7.55</td>\n",
              "      <td>10.88</td>\n",
              "      <td>0.98</td>\n",
              "      <td>73.00</td>\n",
              "      <td>0.95</td>\n",
              "      <td>0.16</td>\n",
              "      <td>0.67</td>\n",
              "    </tr>\n",
              "    <tr>\n",
              "      <th>4</th>\n",
              "      <td>Netherlands</td>\n",
              "      <td>Western Europe</td>\n",
              "      <td>7.46</td>\n",
              "      <td>10.93</td>\n",
              "      <td>0.94</td>\n",
              "      <td>72.40</td>\n",
              "      <td>0.91</td>\n",
              "      <td>0.17</td>\n",
              "      <td>0.34</td>\n",
              "    </tr>\n",
              "    <tr>\n",
              "      <th>...</th>\n",
              "      <td>...</td>\n",
              "      <td>...</td>\n",
              "      <td>...</td>\n",
              "      <td>...</td>\n",
              "      <td>...</td>\n",
              "      <td>...</td>\n",
              "      <td>...</td>\n",
              "      <td>...</td>\n",
              "      <td>...</td>\n",
              "    </tr>\n",
              "    <tr>\n",
              "      <th>144</th>\n",
              "      <td>Lesotho</td>\n",
              "      <td>Sub-Saharan Africa</td>\n",
              "      <td>3.51</td>\n",
              "      <td>7.93</td>\n",
              "      <td>0.79</td>\n",
              "      <td>48.70</td>\n",
              "      <td>0.71</td>\n",
              "      <td>-0.13</td>\n",
              "      <td>0.92</td>\n",
              "    </tr>\n",
              "    <tr>\n",
              "      <th>145</th>\n",
              "      <td>Botswana</td>\n",
              "      <td>Sub-Saharan Africa</td>\n",
              "      <td>3.47</td>\n",
              "      <td>9.78</td>\n",
              "      <td>0.78</td>\n",
              "      <td>59.27</td>\n",
              "      <td>0.82</td>\n",
              "      <td>-0.25</td>\n",
              "      <td>0.80</td>\n",
              "    </tr>\n",
              "    <tr>\n",
              "      <th>146</th>\n",
              "      <td>Rwanda</td>\n",
              "      <td>Sub-Saharan Africa</td>\n",
              "      <td>3.42</td>\n",
              "      <td>7.68</td>\n",
              "      <td>0.55</td>\n",
              "      <td>61.40</td>\n",
              "      <td>0.90</td>\n",
              "      <td>0.06</td>\n",
              "      <td>0.17</td>\n",
              "    </tr>\n",
              "    <tr>\n",
              "      <th>147</th>\n",
              "      <td>Zimbabwe</td>\n",
              "      <td>Sub-Saharan Africa</td>\n",
              "      <td>3.15</td>\n",
              "      <td>7.94</td>\n",
              "      <td>0.75</td>\n",
              "      <td>56.20</td>\n",
              "      <td>0.68</td>\n",
              "      <td>-0.05</td>\n",
              "      <td>0.82</td>\n",
              "    </tr>\n",
              "    <tr>\n",
              "      <th>148</th>\n",
              "      <td>Afghanistan</td>\n",
              "      <td>South Asia</td>\n",
              "      <td>2.52</td>\n",
              "      <td>7.70</td>\n",
              "      <td>0.46</td>\n",
              "      <td>52.49</td>\n",
              "      <td>0.38</td>\n",
              "      <td>-0.10</td>\n",
              "      <td>0.92</td>\n",
              "    </tr>\n",
              "  </tbody>\n",
              "</table>\n",
              "<p>149 rows × 9 columns</p>\n",
              "</div>\n",
              "      <button class=\"colab-df-convert\" onclick=\"convertToInteractive('df-cd47ffeb-b706-4826-863c-92d01b906241')\"\n",
              "              title=\"Convert this dataframe to an interactive table.\"\n",
              "              style=\"display:none;\">\n",
              "        \n",
              "  <svg xmlns=\"http://www.w3.org/2000/svg\" height=\"24px\"viewBox=\"0 0 24 24\"\n",
              "       width=\"24px\">\n",
              "    <path d=\"M0 0h24v24H0V0z\" fill=\"none\"/>\n",
              "    <path d=\"M18.56 5.44l.94 2.06.94-2.06 2.06-.94-2.06-.94-.94-2.06-.94 2.06-2.06.94zm-11 1L8.5 8.5l.94-2.06 2.06-.94-2.06-.94L8.5 2.5l-.94 2.06-2.06.94zm10 10l.94 2.06.94-2.06 2.06-.94-2.06-.94-.94-2.06-.94 2.06-2.06.94z\"/><path d=\"M17.41 7.96l-1.37-1.37c-.4-.4-.92-.59-1.43-.59-.52 0-1.04.2-1.43.59L10.3 9.45l-7.72 7.72c-.78.78-.78 2.05 0 2.83L4 21.41c.39.39.9.59 1.41.59.51 0 1.02-.2 1.41-.59l7.78-7.78 2.81-2.81c.8-.78.8-2.07 0-2.86zM5.41 20L4 18.59l7.72-7.72 1.47 1.35L5.41 20z\"/>\n",
              "  </svg>\n",
              "      </button>\n",
              "      \n",
              "  <style>\n",
              "    .colab-df-container {\n",
              "      display:flex;\n",
              "      flex-wrap:wrap;\n",
              "      gap: 12px;\n",
              "    }\n",
              "\n",
              "    .colab-df-convert {\n",
              "      background-color: #E8F0FE;\n",
              "      border: none;\n",
              "      border-radius: 50%;\n",
              "      cursor: pointer;\n",
              "      display: none;\n",
              "      fill: #1967D2;\n",
              "      height: 32px;\n",
              "      padding: 0 0 0 0;\n",
              "      width: 32px;\n",
              "    }\n",
              "\n",
              "    .colab-df-convert:hover {\n",
              "      background-color: #E2EBFA;\n",
              "      box-shadow: 0px 1px 2px rgba(60, 64, 67, 0.3), 0px 1px 3px 1px rgba(60, 64, 67, 0.15);\n",
              "      fill: #174EA6;\n",
              "    }\n",
              "\n",
              "    [theme=dark] .colab-df-convert {\n",
              "      background-color: #3B4455;\n",
              "      fill: #D2E3FC;\n",
              "    }\n",
              "\n",
              "    [theme=dark] .colab-df-convert:hover {\n",
              "      background-color: #434B5C;\n",
              "      box-shadow: 0px 1px 3px 1px rgba(0, 0, 0, 0.15);\n",
              "      filter: drop-shadow(0px 1px 2px rgba(0, 0, 0, 0.3));\n",
              "      fill: #FFFFFF;\n",
              "    }\n",
              "  </style>\n",
              "\n",
              "      <script>\n",
              "        const buttonEl =\n",
              "          document.querySelector('#df-cd47ffeb-b706-4826-863c-92d01b906241 button.colab-df-convert');\n",
              "        buttonEl.style.display =\n",
              "          google.colab.kernel.accessAllowed ? 'block' : 'none';\n",
              "\n",
              "        async function convertToInteractive(key) {\n",
              "          const element = document.querySelector('#df-cd47ffeb-b706-4826-863c-92d01b906241');\n",
              "          const dataTable =\n",
              "            await google.colab.kernel.invokeFunction('convertToInteractive',\n",
              "                                                     [key], {});\n",
              "          if (!dataTable) return;\n",
              "\n",
              "          const docLinkHtml = 'Like what you see? Visit the ' +\n",
              "            '<a target=\"_blank\" href=https://colab.research.google.com/notebooks/data_table.ipynb>data table notebook</a>'\n",
              "            + ' to learn more about interactive tables.';\n",
              "          element.innerHTML = '';\n",
              "          dataTable['output_type'] = 'display_data';\n",
              "          await google.colab.output.renderOutput(dataTable, element);\n",
              "          const docLink = document.createElement('div');\n",
              "          docLink.innerHTML = docLinkHtml;\n",
              "          element.appendChild(docLink);\n",
              "        }\n",
              "      </script>\n",
              "    </div>\n",
              "  </div>\n",
              "  "
            ]
          },
          "metadata": {},
          "execution_count": 72
        }
      ],
      "source": [
        "#Залишаємо потрібні нам стовпці для досліджень\n",
        "data.drop(['Standard error of ladder score','upperwhisker','lowerwhisker','Ladder score in Dystopia','Explained by: Log GDP per capita','Explained by: Social support','Explained by: Healthy life expectancy','Explained by: Freedom to make life choices','Explained by: Generosity', 'Explained by: Perceptions of corruption', 'Dystopia + residual'], axis =1,inplace=True)\n",
        "data"
      ]
    },
    {
      "cell_type": "code",
      "execution_count": null,
      "metadata": {
        "id": "mLbwbp9pXs4N",
        "outputId": "4b5ba93d-240e-4614-cf08-43337b9ed8fb",
        "colab": {
          "base_uri": "https://localhost:8080/",
          "height": 300
        }
      },
      "outputs": [
        {
          "output_type": "execute_result",
          "data": {
            "text/plain": [
              "       Ladder score  Logged GDP per capita  Social support  \\\n",
              "count        149.00                 149.00          149.00   \n",
              "mean           5.53                   9.43            0.81   \n",
              "std            1.07                   1.16            0.11   \n",
              "min            2.52                   6.63            0.46   \n",
              "25%            4.85                   8.54            0.75   \n",
              "50%            5.53                   9.57            0.83   \n",
              "75%            6.25                  10.42            0.91   \n",
              "max            7.84                  11.65            0.98   \n",
              "\n",
              "       Healthy life expectancy  Freedom to make life choices  Generosity  \\\n",
              "count                   149.00                        149.00      149.00   \n",
              "mean                     64.99                          0.79       -0.02   \n",
              "std                       6.76                          0.11        0.15   \n",
              "min                      48.48                          0.38       -0.29   \n",
              "25%                      59.80                          0.72       -0.13   \n",
              "50%                      66.60                          0.80       -0.04   \n",
              "75%                      69.60                          0.88        0.08   \n",
              "max                      76.95                          0.97        0.54   \n",
              "\n",
              "       Perceptions of corruption  \n",
              "count                     149.00  \n",
              "mean                        0.73  \n",
              "std                         0.18  \n",
              "min                         0.08  \n",
              "25%                         0.67  \n",
              "50%                         0.78  \n",
              "75%                         0.84  \n",
              "max                         0.94  "
            ],
            "text/html": [
              "\n",
              "  <div id=\"df-7904a108-aa05-4da4-b953-8fd981f9a906\">\n",
              "    <div class=\"colab-df-container\">\n",
              "      <div>\n",
              "<style scoped>\n",
              "    .dataframe tbody tr th:only-of-type {\n",
              "        vertical-align: middle;\n",
              "    }\n",
              "\n",
              "    .dataframe tbody tr th {\n",
              "        vertical-align: top;\n",
              "    }\n",
              "\n",
              "    .dataframe thead th {\n",
              "        text-align: right;\n",
              "    }\n",
              "</style>\n",
              "<table border=\"1\" class=\"dataframe\">\n",
              "  <thead>\n",
              "    <tr style=\"text-align: right;\">\n",
              "      <th></th>\n",
              "      <th>Ladder score</th>\n",
              "      <th>Logged GDP per capita</th>\n",
              "      <th>Social support</th>\n",
              "      <th>Healthy life expectancy</th>\n",
              "      <th>Freedom to make life choices</th>\n",
              "      <th>Generosity</th>\n",
              "      <th>Perceptions of corruption</th>\n",
              "    </tr>\n",
              "  </thead>\n",
              "  <tbody>\n",
              "    <tr>\n",
              "      <th>count</th>\n",
              "      <td>149.00</td>\n",
              "      <td>149.00</td>\n",
              "      <td>149.00</td>\n",
              "      <td>149.00</td>\n",
              "      <td>149.00</td>\n",
              "      <td>149.00</td>\n",
              "      <td>149.00</td>\n",
              "    </tr>\n",
              "    <tr>\n",
              "      <th>mean</th>\n",
              "      <td>5.53</td>\n",
              "      <td>9.43</td>\n",
              "      <td>0.81</td>\n",
              "      <td>64.99</td>\n",
              "      <td>0.79</td>\n",
              "      <td>-0.02</td>\n",
              "      <td>0.73</td>\n",
              "    </tr>\n",
              "    <tr>\n",
              "      <th>std</th>\n",
              "      <td>1.07</td>\n",
              "      <td>1.16</td>\n",
              "      <td>0.11</td>\n",
              "      <td>6.76</td>\n",
              "      <td>0.11</td>\n",
              "      <td>0.15</td>\n",
              "      <td>0.18</td>\n",
              "    </tr>\n",
              "    <tr>\n",
              "      <th>min</th>\n",
              "      <td>2.52</td>\n",
              "      <td>6.63</td>\n",
              "      <td>0.46</td>\n",
              "      <td>48.48</td>\n",
              "      <td>0.38</td>\n",
              "      <td>-0.29</td>\n",
              "      <td>0.08</td>\n",
              "    </tr>\n",
              "    <tr>\n",
              "      <th>25%</th>\n",
              "      <td>4.85</td>\n",
              "      <td>8.54</td>\n",
              "      <td>0.75</td>\n",
              "      <td>59.80</td>\n",
              "      <td>0.72</td>\n",
              "      <td>-0.13</td>\n",
              "      <td>0.67</td>\n",
              "    </tr>\n",
              "    <tr>\n",
              "      <th>50%</th>\n",
              "      <td>5.53</td>\n",
              "      <td>9.57</td>\n",
              "      <td>0.83</td>\n",
              "      <td>66.60</td>\n",
              "      <td>0.80</td>\n",
              "      <td>-0.04</td>\n",
              "      <td>0.78</td>\n",
              "    </tr>\n",
              "    <tr>\n",
              "      <th>75%</th>\n",
              "      <td>6.25</td>\n",
              "      <td>10.42</td>\n",
              "      <td>0.91</td>\n",
              "      <td>69.60</td>\n",
              "      <td>0.88</td>\n",
              "      <td>0.08</td>\n",
              "      <td>0.84</td>\n",
              "    </tr>\n",
              "    <tr>\n",
              "      <th>max</th>\n",
              "      <td>7.84</td>\n",
              "      <td>11.65</td>\n",
              "      <td>0.98</td>\n",
              "      <td>76.95</td>\n",
              "      <td>0.97</td>\n",
              "      <td>0.54</td>\n",
              "      <td>0.94</td>\n",
              "    </tr>\n",
              "  </tbody>\n",
              "</table>\n",
              "</div>\n",
              "      <button class=\"colab-df-convert\" onclick=\"convertToInteractive('df-7904a108-aa05-4da4-b953-8fd981f9a906')\"\n",
              "              title=\"Convert this dataframe to an interactive table.\"\n",
              "              style=\"display:none;\">\n",
              "        \n",
              "  <svg xmlns=\"http://www.w3.org/2000/svg\" height=\"24px\"viewBox=\"0 0 24 24\"\n",
              "       width=\"24px\">\n",
              "    <path d=\"M0 0h24v24H0V0z\" fill=\"none\"/>\n",
              "    <path d=\"M18.56 5.44l.94 2.06.94-2.06 2.06-.94-2.06-.94-.94-2.06-.94 2.06-2.06.94zm-11 1L8.5 8.5l.94-2.06 2.06-.94-2.06-.94L8.5 2.5l-.94 2.06-2.06.94zm10 10l.94 2.06.94-2.06 2.06-.94-2.06-.94-.94-2.06-.94 2.06-2.06.94z\"/><path d=\"M17.41 7.96l-1.37-1.37c-.4-.4-.92-.59-1.43-.59-.52 0-1.04.2-1.43.59L10.3 9.45l-7.72 7.72c-.78.78-.78 2.05 0 2.83L4 21.41c.39.39.9.59 1.41.59.51 0 1.02-.2 1.41-.59l7.78-7.78 2.81-2.81c.8-.78.8-2.07 0-2.86zM5.41 20L4 18.59l7.72-7.72 1.47 1.35L5.41 20z\"/>\n",
              "  </svg>\n",
              "      </button>\n",
              "      \n",
              "  <style>\n",
              "    .colab-df-container {\n",
              "      display:flex;\n",
              "      flex-wrap:wrap;\n",
              "      gap: 12px;\n",
              "    }\n",
              "\n",
              "    .colab-df-convert {\n",
              "      background-color: #E8F0FE;\n",
              "      border: none;\n",
              "      border-radius: 50%;\n",
              "      cursor: pointer;\n",
              "      display: none;\n",
              "      fill: #1967D2;\n",
              "      height: 32px;\n",
              "      padding: 0 0 0 0;\n",
              "      width: 32px;\n",
              "    }\n",
              "\n",
              "    .colab-df-convert:hover {\n",
              "      background-color: #E2EBFA;\n",
              "      box-shadow: 0px 1px 2px rgba(60, 64, 67, 0.3), 0px 1px 3px 1px rgba(60, 64, 67, 0.15);\n",
              "      fill: #174EA6;\n",
              "    }\n",
              "\n",
              "    [theme=dark] .colab-df-convert {\n",
              "      background-color: #3B4455;\n",
              "      fill: #D2E3FC;\n",
              "    }\n",
              "\n",
              "    [theme=dark] .colab-df-convert:hover {\n",
              "      background-color: #434B5C;\n",
              "      box-shadow: 0px 1px 3px 1px rgba(0, 0, 0, 0.15);\n",
              "      filter: drop-shadow(0px 1px 2px rgba(0, 0, 0, 0.3));\n",
              "      fill: #FFFFFF;\n",
              "    }\n",
              "  </style>\n",
              "\n",
              "      <script>\n",
              "        const buttonEl =\n",
              "          document.querySelector('#df-7904a108-aa05-4da4-b953-8fd981f9a906 button.colab-df-convert');\n",
              "        buttonEl.style.display =\n",
              "          google.colab.kernel.accessAllowed ? 'block' : 'none';\n",
              "\n",
              "        async function convertToInteractive(key) {\n",
              "          const element = document.querySelector('#df-7904a108-aa05-4da4-b953-8fd981f9a906');\n",
              "          const dataTable =\n",
              "            await google.colab.kernel.invokeFunction('convertToInteractive',\n",
              "                                                     [key], {});\n",
              "          if (!dataTable) return;\n",
              "\n",
              "          const docLinkHtml = 'Like what you see? Visit the ' +\n",
              "            '<a target=\"_blank\" href=https://colab.research.google.com/notebooks/data_table.ipynb>data table notebook</a>'\n",
              "            + ' to learn more about interactive tables.';\n",
              "          element.innerHTML = '';\n",
              "          dataTable['output_type'] = 'display_data';\n",
              "          await google.colab.output.renderOutput(dataTable, element);\n",
              "          const docLink = document.createElement('div');\n",
              "          docLink.innerHTML = docLinkHtml;\n",
              "          element.appendChild(docLink);\n",
              "        }\n",
              "      </script>\n",
              "    </div>\n",
              "  </div>\n",
              "  "
            ]
          },
          "metadata": {},
          "execution_count": 73
        }
      ],
      "source": [
        "data.describe() #Базові статистичні показники по кожному фактору"
      ]
    },
    {
      "cell_type": "code",
      "source": [
        "# Згрупуємо рядки за регіонами\n",
        "data.groupby('Regional indicator')['Healthy life expectancy'].mean()"
      ],
      "metadata": {
        "colab": {
          "base_uri": "https://localhost:8080/"
        },
        "id": "rV2UDWYZlcJ_",
        "outputId": "da299c76-8591-4844-a91c-6219d3bb3c24"
      },
      "execution_count": null,
      "outputs": [
        {
          "output_type": "execute_result",
          "data": {
            "text/plain": [
              "Regional indicator\n",
              "Central and Eastern Europe           68.34\n",
              "Commonwealth of Independent States   65.01\n",
              "East Asia                            71.25\n",
              "Latin America and Caribbean          67.08\n",
              "Middle East and North Africa         65.58\n",
              "North America and ANZ                72.33\n",
              "South Asia                           64.38\n",
              "Southeast Asia                       64.89\n",
              "Sub-Saharan Africa                   55.89\n",
              "Western Europe                       73.03\n",
              "Name: Healthy life expectancy, dtype: float64"
            ]
          },
          "metadata": {},
          "execution_count": 100
        }
      ]
    },
    {
      "cell_type": "code",
      "execution_count": null,
      "metadata": {
        "id": "ECpR5Yi3Xs4N",
        "outputId": "7ededf9e-88b1-4ce7-b130-70b9333a858d",
        "colab": {
          "base_uri": "https://localhost:8080/",
          "height": 460
        }
      },
      "outputs": [
        {
          "output_type": "stream",
          "name": "stderr",
          "text": [
            "/usr/local/lib/python3.7/dist-packages/seaborn/distributions.py:2619: FutureWarning: `distplot` is a deprecated function and will be removed in a future version. Please adapt your code to use either `displot` (a figure-level function with similar flexibility) or `histplot` (an axes-level function for histograms).\n",
            "  warnings.warn(msg, FutureWarning)\n"
          ]
        },
        {
          "output_type": "execute_result",
          "data": {
            "text/plain": [
              "<matplotlib.axes._subplots.AxesSubplot at 0x7f4e10ebcf90>"
            ]
          },
          "metadata": {},
          "execution_count": 74
        },
        {
          "output_type": "display_data",
          "data": {
            "text/plain": [
              "<Figure size 1008x432 with 1 Axes>"
            ],
            "image/png": "[encoded data removed]"
          },
          "metadata": {
            "needs_background": "light"
          }
        }
      ],
      "source": [
        "sns.distplot(data['Ladder score']) # побудуємо графік щільності розподілу для результуючої змінної"
      ]
    },
    {
      "cell_type": "code",
      "source": [
        "fig = plt.figure(figsize=(10, 6), dpi= 80, facecolor='w', edgecolor='k')\n",
        "plt.scatter('Ladder score', 'Logged GDP per capita', data=data, c='blue', cmap='Reds', edgecolors='black', linewidths=.5)\n",
        "plt.grid(linestyle='--')\n",
        "plt.xlabel('Ladder score', fontsize=10)\n",
        "plt.ylabel('Logged GDP per capita', fontsize=10)\n",
        "plt.title('Ladder score vs Logged GDP per capita')\n",
        "cbar = plt.colorbar()\n",
        "cbar.set_label('blue', rotation=270)\n",
        "#plt.savefig('my_figure.png')\n",
        "plt.show()"
      ],
      "metadata": {
        "colab": {
          "base_uri": "https://localhost:8080/",
          "height": 444
        },
        "id": "KiKEuT0rbAY2",
        "outputId": "91a0fb47-ea43-4727-8349-af24e03746f2"
      },
      "execution_count": null,
      "outputs": [
        {
          "output_type": "display_data",
          "data": {
            "text/plain": [
              "<Figure size 800x480 with 2 Axes>"
            ],
            "image/png": "[encoded data removed]"
          },
          "metadata": {}
        }
      ]
    },
    {
      "cell_type": "markdown",
      "source": [
        "Data cleaning and dealing with missing data"
      ],
      "metadata": {
        "id": "4MX6oUmzb6R1"
      }
    },
    {
      "cell_type": "code",
      "source": [
        "plt.figure(figsize = (10,8))\n",
        "plt.scatter(data['Freedom to make life choices'], data['Ladder score'])\n",
        "plt.xlabel('Freedom to make life choices')\n",
        "plt.ylabel('Ladder score')\n",
        "plt.show()"
      ],
      "metadata": {
        "colab": {
          "base_uri": "https://localhost:8080/",
          "height": 497
        },
        "id": "J2PNgkKVb9AZ",
        "outputId": "ba09dcff-c00c-489c-b6d7-f070f7292cd0"
      },
      "execution_count": null,
      "outputs": [
        {
          "output_type": "display_data",
          "data": {
            "text/plain": [
              "<Figure size 720x576 with 1 Axes>"
            ],
            "image/png": "[encoded data removed]"
          },
          "metadata": {
            "needs_background": "light"
          }
        }
      ]
    },
    {
      "cell_type": "code",
      "source": [
        "data.drop(data[(data['Freedom to make life choices'] < 0.5)].index, axis=0, inplace=True)"
      ],
      "metadata": {
        "id": "2GMJffKIcOy8"
      },
      "execution_count": null,
      "outputs": []
    },
    {
      "cell_type": "code",
      "source": [
        "plt.figure(figsize = (10,8))\n",
        "plt.scatter(data['Freedom to make life choices'], data['Ladder score'])\n",
        "plt.xlabel('Freedom to make life choices')\n",
        "plt.ylabel('Ladder score')\n",
        "plt.show()"
      ],
      "metadata": {
        "colab": {
          "base_uri": "https://localhost:8080/",
          "height": 497
        },
        "id": "rVXsljW5eYaT",
        "outputId": "89147d47-fb0f-4151-8faf-51d924bea771"
      },
      "execution_count": null,
      "outputs": [
        {
          "output_type": "display_data",
          "data": {
            "text/plain": [
              "<Figure size 720x576 with 1 Axes>"
            ],
            "image/png": "[encoded data removed]"
          },
          "metadata": {
            "needs_background": "light"
          }
        }
      ]
    },
    {
      "cell_type": "code",
      "source": [
        "# separate categorical and numerical features\n",
        "\n",
        "categorical_features = data.select_dtypes(include=['object']).columns\n",
        "numerical_features = data.select_dtypes(include=['int64', 'float64']).columns"
      ],
      "metadata": {
        "id": "9xsfDgnfhfxZ"
      },
      "execution_count": null,
      "outputs": []
    },
    {
      "cell_type": "code",
      "source": [
        "categorical_features"
      ],
      "metadata": {
        "colab": {
          "base_uri": "https://localhost:8080/"
        },
        "id": "TvhOubK8hivp",
        "outputId": "32b2ba34-f071-48e7-edd2-5befa5de27fd"
      },
      "execution_count": null,
      "outputs": [
        {
          "output_type": "execute_result",
          "data": {
            "text/plain": [
              "Index(['Country name', 'Regional indicator'], dtype='object')"
            ]
          },
          "metadata": {},
          "execution_count": 80
        }
      ]
    },
    {
      "cell_type": "code",
      "source": [
        "numerical_features"
      ],
      "metadata": {
        "colab": {
          "base_uri": "https://localhost:8080/"
        },
        "id": "nwqILIUMhkhK",
        "outputId": "7045a66e-08b1-4e4f-aa06-d33b2ae13599"
      },
      "execution_count": null,
      "outputs": [
        {
          "output_type": "execute_result",
          "data": {
            "text/plain": [
              "Index(['Ladder score', 'Logged GDP per capita', 'Social support',\n",
              "       'Healthy life expectancy', 'Freedom to make life choices', 'Generosity',\n",
              "       'Perceptions of corruption'],\n",
              "      dtype='object')"
            ]
          },
          "metadata": {},
          "execution_count": 81
        }
      ]
    },
    {
      "cell_type": "code",
      "source": [
        "print(\"Number of numerical features : \" + str(len(numerical_features)))\n",
        "print(\"Number of categorical features : \" + str(len(categorical_features)))"
      ],
      "metadata": {
        "colab": {
          "base_uri": "https://localhost:8080/"
        },
        "id": "Dd1DTYfUhnxn",
        "outputId": "34e4e260-9db5-4d17-9d94-87b242ee3854"
      },
      "execution_count": null,
      "outputs": [
        {
          "output_type": "stream",
          "name": "stdout",
          "text": [
            "Number of numerical features : 7\n",
            "Number of categorical features : 2\n"
          ]
        }
      ]
    },
    {
      "cell_type": "code",
      "source": [
        "# missing numerical values is replaced by median\n",
        "\n",
        "data_num = data[numerical_features].fillna(data[numerical_features].median())"
      ],
      "metadata": {
        "id": "bnWDUTh8hrJY"
      },
      "execution_count": null,
      "outputs": []
    },
    {
      "cell_type": "code",
      "source": [
        "# missing categorical values is replaced by mode\n",
        "\n",
        "data_cat = data[categorical_features].fillna(data[categorical_features].mode())"
      ],
      "metadata": {
        "id": "uY7YhTNQhsho"
      },
      "execution_count": null,
      "outputs": []
    },
    {
      "cell_type": "markdown",
      "source": [],
      "metadata": {
        "id": "SpcNJ6T9hxdT"
      }
    },
    {
      "cell_type": "markdown",
      "source": [
        "Data transformation and categorical features encoding"
      ],
      "metadata": {
        "id": "0uTdrj8Okdlw"
      }
    },
    {
      "cell_type": "code",
      "source": [
        "# skewness\n",
        "\n",
        "from scipy.stats import skew\n",
        "skewness = data_num.apply(lambda x: skew(x))\n",
        "skewness.sort_values(ascending=False)"
      ],
      "metadata": {
        "colab": {
          "base_uri": "https://localhost:8080/"
        },
        "id": "V_BoRfihhz4X",
        "outputId": "25d7ee58-9d2d-45ba-bb65-c47b48ea7ac4"
      },
      "execution_count": null,
      "outputs": [
        {
          "output_type": "execute_result",
          "data": {
            "text/plain": [
              "Generosity                      0.98\n",
              "Ladder score                   -0.02\n",
              "Logged GDP per capita          -0.36\n",
              "Freedom to make life choices   -0.50\n",
              "Healthy life expectancy        -0.52\n",
              "Social support                 -0.87\n",
              "Perceptions of corruption      -1.55\n",
              "dtype: float64"
            ]
          },
          "metadata": {},
          "execution_count": 86
        }
      ]
    },
    {
      "cell_type": "code",
      "source": [
        "plt.rcParams['figure.figsize'] = (14.0, 6.0)\n",
        "prices = pd.DataFrame({\"price\": data[\"Ladder score\"], \"log(score + 1)\":np.log1p(data[\"Ladder score\"])})\n",
        "prices.hist(bins=20, alpha=0.85, rwidth=0.95)\n",
        "plt.show()"
      ],
      "metadata": {
        "colab": {
          "base_uri": "https://localhost:8080/",
          "height": 390
        },
        "id": "s3Qz0qRlh318",
        "outputId": "3c5812e5-9649-48c9-e1cd-91f6a45345f4"
      },
      "execution_count": null,
      "outputs": [
        {
          "output_type": "display_data",
          "data": {
            "text/plain": [
              "<Figure size 1008x432 with 2 Axes>"
            ],
            "image/png": "[encoded data removed]"
          },
          "metadata": {
            "needs_background": "light"
          }
        }
      ]
    },
    {
      "cell_type": "code",
      "source": [
        "skewed_cols = skewness[abs(skewness)>1].index\n",
        "skewed_cols"
      ],
      "metadata": {
        "colab": {
          "base_uri": "https://localhost:8080/"
        },
        "id": "PRUW-lEqiBw2",
        "outputId": "514d5961-1b3d-438a-c2d2-04cba476a981"
      },
      "execution_count": null,
      "outputs": [
        {
          "output_type": "execute_result",
          "data": {
            "text/plain": [
              "Index(['Perceptions of corruption'], dtype='object')"
            ]
          },
          "metadata": {},
          "execution_count": 88
        }
      ]
    },
    {
      "cell_type": "code",
      "source": [
        "data_num[skewed_cols] = np.log1p(data_num[skewed_cols])"
      ],
      "metadata": {
        "id": "z0ygY9K9iCVY"
      },
      "execution_count": null,
      "outputs": []
    },
    {
      "cell_type": "code",
      "source": [
        "# dummy variables\n",
        "\n",
        "data_cat = pd.get_dummies(data_cat)\n",
        "data_cat.shape"
      ],
      "metadata": {
        "colab": {
          "base_uri": "https://localhost:8080/"
        },
        "id": "MU00fkj_iCYa",
        "outputId": "7be1deaf-2f97-41de-d6fa-bac64fa746ac"
      },
      "execution_count": null,
      "outputs": [
        {
          "output_type": "execute_result",
          "data": {
            "text/plain": [
              "(147, 157)"
            ]
          },
          "metadata": {},
          "execution_count": 90
        }
      ]
    },
    {
      "cell_type": "code",
      "source": [
        "data_cat.head()"
      ],
      "metadata": {
        "colab": {
          "base_uri": "https://localhost:8080/",
          "height": 352
        },
        "id": "gSdrJs8riCbW",
        "outputId": "5294e47a-1a61-4afc-d720-a4a0f791b736"
      },
      "execution_count": null,
      "outputs": [
        {
          "output_type": "execute_result",
          "data": {
            "text/plain": [
              "   Country name_Albania  Country name_Argentina  Country name_Armenia  \\\n",
              "0                     0                       0                     0   \n",
              "1                     0                       0                     0   \n",
              "2                     0                       0                     0   \n",
              "3                     0                       0                     0   \n",
              "4                     0                       0                     0   \n",
              "\n",
              "   Country name_Australia  Country name_Austria  Country name_Azerbaijan  \\\n",
              "0                       0                     0                        0   \n",
              "1                       0                     0                        0   \n",
              "2                       0                     0                        0   \n",
              "3                       0                     0                        0   \n",
              "4                       0                     0                        0   \n",
              "\n",
              "   Country name_Bahrain  Country name_Bangladesh  Country name_Belarus  \\\n",
              "0                     0                        0                     0   \n",
              "1                     0                        0                     0   \n",
              "2                     0                        0                     0   \n",
              "3                     0                        0                     0   \n",
              "4                     0                        0                     0   \n",
              "\n",
              "   Country name_Belgium  ...  Regional indicator_Central and Eastern Europe  \\\n",
              "0                     0  ...                                              0   \n",
              "1                     0  ...                                              0   \n",
              "2                     0  ...                                              0   \n",
              "3                     0  ...                                              0   \n",
              "4                     0  ...                                              0   \n",
              "\n",
              "   Regional indicator_Commonwealth of Independent States  \\\n",
              "0                                                  0       \n",
              "1                                                  0       \n",
              "2                                                  0       \n",
              "3                                                  0       \n",
              "4                                                  0       \n",
              "\n",
              "   Regional indicator_East Asia  \\\n",
              "0                             0   \n",
              "1                             0   \n",
              "2                             0   \n",
              "3                             0   \n",
              "4                             0   \n",
              "\n",
              "   Regional indicator_Latin America and Caribbean  \\\n",
              "0                                               0   \n",
              "1                                               0   \n",
              "2                                               0   \n",
              "3                                               0   \n",
              "4                                               0   \n",
              "\n",
              "   Regional indicator_Middle East and North Africa  \\\n",
              "0                                                0   \n",
              "1                                                0   \n",
              "2                                                0   \n",
              "3                                                0   \n",
              "4                                                0   \n",
              "\n",
              "   Regional indicator_North America and ANZ  Regional indicator_South Asia  \\\n",
              "0                                         0                              0   \n",
              "1                                         0                              0   \n",
              "2                                         0                              0   \n",
              "3                                         0                              0   \n",
              "4                                         0                              0   \n",
              "\n",
              "   Regional indicator_Southeast Asia  Regional indicator_Sub-Saharan Africa  \\\n",
              "0                                  0                                      0   \n",
              "1                                  0                                      0   \n",
              "2                                  0                                      0   \n",
              "3                                  0                                      0   \n",
              "4                                  0                                      0   \n",
              "\n",
              "   Regional indicator_Western Europe  \n",
              "0                                  1  \n",
              "1                                  1  \n",
              "2                                  1  \n",
              "3                                  1  \n",
              "4                                  1  \n",
              "\n",
              "[5 rows x 157 columns]"
            ],
            "text/html": [
              "\n",
              "  <div id=\"df-18773039-cdf9-40f8-a8fd-a8b9ae004a8a\">\n",
              "    <div class=\"colab-df-container\">\n",
              "      <div>\n",
              "<style scoped>\n",
              "    .dataframe tbody tr th:only-of-type {\n",
              "        vertical-align: middle;\n",
              "    }\n",
              "\n",
              "    .dataframe tbody tr th {\n",
              "        vertical-align: top;\n",
              "    }\n",
              "\n",
              "    .dataframe thead th {\n",
              "        text-align: right;\n",
              "    }\n",
              "</style>\n",
              "<table border=\"1\" class=\"dataframe\">\n",
              "  <thead>\n",
              "    <tr style=\"text-align: right;\">\n",
              "      <th></th>\n",
              "      <th>Country name_Albania</th>\n",
              "      <th>Country name_Argentina</th>\n",
              "      <th>Country name_Armenia</th>\n",
              "      <th>Country name_Australia</th>\n",
              "      <th>Country name_Austria</th>\n",
              "      <th>Country name_Azerbaijan</th>\n",
              "      <th>Country name_Bahrain</th>\n",
              "      <th>Country name_Bangladesh</th>\n",
              "      <th>Country name_Belarus</th>\n",
              "      <th>Country name_Belgium</th>\n",
              "      <th>...</th>\n",
              "      <th>Regional indicator_Central and Eastern Europe</th>\n",
              "      <th>Regional indicator_Commonwealth of Independent States</th>\n",
              "      <th>Regional indicator_East Asia</th>\n",
              "      <th>Regional indicator_Latin America and Caribbean</th>\n",
              "      <th>Regional indicator_Middle East and North Africa</th>\n",
              "      <th>Regional indicator_North America and ANZ</th>\n",
              "      <th>Regional indicator_South Asia</th>\n",
              "      <th>Regional indicator_Southeast Asia</th>\n",
              "      <th>Regional indicator_Sub-Saharan Africa</th>\n",
              "      <th>Regional indicator_Western Europe</th>\n",
              "    </tr>\n",
              "  </thead>\n",
              "  <tbody>\n",
              "    <tr>\n",
              "      <th>0</th>\n",
              "      <td>0</td>\n",
              "      <td>0</td>\n",
              "      <td>0</td>\n",
              "      <td>0</td>\n",
              "      <td>0</td>\n",
              "      <td>0</td>\n",
              "      <td>0</td>\n",
              "      <td>0</td>\n",
              "      <td>0</td>\n",
              "      <td>0</td>\n",
              "      <td>...</td>\n",
              "      <td>0</td>\n",
              "      <td>0</td>\n",
              "      <td>0</td>\n",
              "      <td>0</td>\n",
              "      <td>0</td>\n",
              "      <td>0</td>\n",
              "      <td>0</td>\n",
              "      <td>0</td>\n",
              "      <td>0</td>\n",
              "      <td>1</td>\n",
              "    </tr>\n",
              "    <tr>\n",
              "      <th>1</th>\n",
              "      <td>0</td>\n",
              "      <td>0</td>\n",
              "      <td>0</td>\n",
              "      <td>0</td>\n",
              "      <td>0</td>\n",
              "      <td>0</td>\n",
              "      <td>0</td>\n",
              "      <td>0</td>\n",
              "      <td>0</td>\n",
              "      <td>0</td>\n",
              "      <td>...</td>\n",
              "      <td>0</td>\n",
              "      <td>0</td>\n",
              "      <td>0</td>\n",
              "      <td>0</td>\n",
              "      <td>0</td>\n",
              "      <td>0</td>\n",
              "      <td>0</td>\n",
              "      <td>0</td>\n",
              "      <td>0</td>\n",
              "      <td>1</td>\n",
              "    </tr>\n",
              "    <tr>\n",
              "      <th>2</th>\n",
              "      <td>0</td>\n",
              "      <td>0</td>\n",
              "      <td>0</td>\n",
              "      <td>0</td>\n",
              "      <td>0</td>\n",
              "      <td>0</td>\n",
              "      <td>0</td>\n",
              "      <td>0</td>\n",
              "      <td>0</td>\n",
              "      <td>0</td>\n",
              "      <td>...</td>\n",
              "      <td>0</td>\n",
              "      <td>0</td>\n",
              "      <td>0</td>\n",
              "      <td>0</td>\n",
              "      <td>0</td>\n",
              "      <td>0</td>\n",
              "      <td>0</td>\n",
              "      <td>0</td>\n",
              "      <td>0</td>\n",
              "      <td>1</td>\n",
              "    </tr>\n",
              "    <tr>\n",
              "      <th>3</th>\n",
              "      <td>0</td>\n",
              "      <td>0</td>\n",
              "      <td>0</td>\n",
              "      <td>0</td>\n",
              "      <td>0</td>\n",
              "      <td>0</td>\n",
              "      <td>0</td>\n",
              "      <td>0</td>\n",
              "      <td>0</td>\n",
              "      <td>0</td>\n",
              "      <td>...</td>\n",
              "      <td>0</td>\n",
              "      <td>0</td>\n",
              "      <td>0</td>\n",
              "      <td>0</td>\n",
              "      <td>0</td>\n",
              "      <td>0</td>\n",
              "      <td>0</td>\n",
              "      <td>0</td>\n",
              "      <td>0</td>\n",
              "      <td>1</td>\n",
              "    </tr>\n",
              "    <tr>\n",
              "      <th>4</th>\n",
              "      <td>0</td>\n",
              "      <td>0</td>\n",
              "      <td>0</td>\n",
              "      <td>0</td>\n",
              "      <td>0</td>\n",
              "      <td>0</td>\n",
              "      <td>0</td>\n",
              "      <td>0</td>\n",
              "      <td>0</td>\n",
              "      <td>0</td>\n",
              "      <td>...</td>\n",
              "      <td>0</td>\n",
              "      <td>0</td>\n",
              "      <td>0</td>\n",
              "      <td>0</td>\n",
              "      <td>0</td>\n",
              "      <td>0</td>\n",
              "      <td>0</td>\n",
              "      <td>0</td>\n",
              "      <td>0</td>\n",
              "      <td>1</td>\n",
              "    </tr>\n",
              "  </tbody>\n",
              "</table>\n",
              "<p>5 rows × 157 columns</p>\n",
              "</div>\n",
              "      <button class=\"colab-df-convert\" onclick=\"convertToInteractive('df-18773039-cdf9-40f8-a8fd-a8b9ae004a8a')\"\n",
              "              title=\"Convert this dataframe to an interactive table.\"\n",
              "              style=\"display:none;\">\n",
              "        \n",
              "  <svg xmlns=\"http://www.w3.org/2000/svg\" height=\"24px\"viewBox=\"0 0 24 24\"\n",
              "       width=\"24px\">\n",
              "    <path d=\"M0 0h24v24H0V0z\" fill=\"none\"/>\n",
              "    <path d=\"M18.56 5.44l.94 2.06.94-2.06 2.06-.94-2.06-.94-.94-2.06-.94 2.06-2.06.94zm-11 1L8.5 8.5l.94-2.06 2.06-.94-2.06-.94L8.5 2.5l-.94 2.06-2.06.94zm10 10l.94 2.06.94-2.06 2.06-.94-2.06-.94-.94-2.06-.94 2.06-2.06.94z\"/><path d=\"M17.41 7.96l-1.37-1.37c-.4-.4-.92-.59-1.43-.59-.52 0-1.04.2-1.43.59L10.3 9.45l-7.72 7.72c-.78.78-.78 2.05 0 2.83L4 21.41c.39.39.9.59 1.41.59.51 0 1.02-.2 1.41-.59l7.78-7.78 2.81-2.81c.8-.78.8-2.07 0-2.86zM5.41 20L4 18.59l7.72-7.72 1.47 1.35L5.41 20z\"/>\n",
              "  </svg>\n",
              "      </button>\n",
              "      \n",
              "  <style>\n",
              "    .colab-df-container {\n",
              "      display:flex;\n",
              "      flex-wrap:wrap;\n",
              "      gap: 12px;\n",
              "    }\n",
              "\n",
              "    .colab-df-convert {\n",
              "      background-color: #E8F0FE;\n",
              "      border: none;\n",
              "      border-radius: 50%;\n",
              "      cursor: pointer;\n",
              "      display: none;\n",
              "      fill: #1967D2;\n",
              "      height: 32px;\n",
              "      padding: 0 0 0 0;\n",
              "      width: 32px;\n",
              "    }\n",
              "\n",
              "    .colab-df-convert:hover {\n",
              "      background-color: #E2EBFA;\n",
              "      box-shadow: 0px 1px 2px rgba(60, 64, 67, 0.3), 0px 1px 3px 1px rgba(60, 64, 67, 0.15);\n",
              "      fill: #174EA6;\n",
              "    }\n",
              "\n",
              "    [theme=dark] .colab-df-convert {\n",
              "      background-color: #3B4455;\n",
              "      fill: #D2E3FC;\n",
              "    }\n",
              "\n",
              "    [theme=dark] .colab-df-convert:hover {\n",
              "      background-color: #434B5C;\n",
              "      box-shadow: 0px 1px 3px 1px rgba(0, 0, 0, 0.15);\n",
              "      filter: drop-shadow(0px 1px 2px rgba(0, 0, 0, 0.3));\n",
              "      fill: #FFFFFF;\n",
              "    }\n",
              "  </style>\n",
              "\n",
              "      <script>\n",
              "        const buttonEl =\n",
              "          document.querySelector('#df-18773039-cdf9-40f8-a8fd-a8b9ae004a8a button.colab-df-convert');\n",
              "        buttonEl.style.display =\n",
              "          google.colab.kernel.accessAllowed ? 'block' : 'none';\n",
              "\n",
              "        async function convertToInteractive(key) {\n",
              "          const element = document.querySelector('#df-18773039-cdf9-40f8-a8fd-a8b9ae004a8a');\n",
              "          const dataTable =\n",
              "            await google.colab.kernel.invokeFunction('convertToInteractive',\n",
              "                                                     [key], {});\n",
              "          if (!dataTable) return;\n",
              "\n",
              "          const docLinkHtml = 'Like what you see? Visit the ' +\n",
              "            '<a target=\"_blank\" href=https://colab.research.google.com/notebooks/data_table.ipynb>data table notebook</a>'\n",
              "            + ' to learn more about interactive tables.';\n",
              "          element.innerHTML = '';\n",
              "          dataTable['output_type'] = 'display_data';\n",
              "          await google.colab.output.renderOutput(dataTable, element);\n",
              "          const docLink = document.createElement('div');\n",
              "          docLink.innerHTML = docLinkHtml;\n",
              "          element.appendChild(docLink);\n",
              "        }\n",
              "      </script>\n",
              "    </div>\n",
              "  </div>\n",
              "  "
            ]
          },
          "metadata": {},
          "execution_count": 91
        }
      ]
    },
    {
      "cell_type": "code",
      "source": [
        "X = pd.concat([data_cat, data_num], axis=1)\n",
        "y = X[\"Ladder score\"]\n",
        "X.drop(['Ladder score'], axis=1, inplace=True)"
      ],
      "metadata": {
        "id": "qHqtNVVEiNUW"
      },
      "execution_count": null,
      "outputs": []
    },
    {
      "cell_type": "code",
      "source": [
        "X.shape"
      ],
      "metadata": {
        "colab": {
          "base_uri": "https://localhost:8080/"
        },
        "id": "grxaLeQ3iNfM",
        "outputId": "9d99036c-d554-454d-d3e4-20f2f19ed6e1"
      },
      "execution_count": null,
      "outputs": [
        {
          "output_type": "execute_result",
          "data": {
            "text/plain": [
              "(147, 163)"
            ]
          },
          "metadata": {},
          "execution_count": 93
        }
      ]
    },
    {
      "cell_type": "code",
      "source": [
        "y.shape"
      ],
      "metadata": {
        "colab": {
          "base_uri": "https://localhost:8080/"
        },
        "id": "j7owXBz9iNkd",
        "outputId": "405c7882-03f1-4626-dfa2-1219c6f8f484"
      },
      "execution_count": null,
      "outputs": [
        {
          "output_type": "execute_result",
          "data": {
            "text/plain": [
              "(147,)"
            ]
          },
          "metadata": {},
          "execution_count": 94
        }
      ]
    },
    {
      "cell_type": "code",
      "source": [
        "X.isnull().sum().sum()"
      ],
      "metadata": {
        "colab": {
          "base_uri": "https://localhost:8080/"
        },
        "id": "sIaVmi_Nii8e",
        "outputId": "ec6927ae-cb61-43a6-86ce-ace8b37a87cf"
      },
      "execution_count": null,
      "outputs": [
        {
          "output_type": "execute_result",
          "data": {
            "text/plain": [
              "0"
            ]
          },
          "metadata": {},
          "execution_count": 95
        }
      ]
    },
    {
      "cell_type": "markdown",
      "source": [
        "В процесі даної роботи була виконана візуалізація даних та їх препроцесинг (за допомогою One-hot encoding). Після препроцесингу, дані стають більш зручними для роботи та на їх основі можна будувати більш точні моделі та прогнози."
      ],
      "metadata": {
        "id": "BEEmq9GVjJ2L"
      }
    }
  ],
  "metadata": {
    "kernelspec": {
      "display_name": "Python 3",
      "language": "python",
      "name": "python3"
    },
    "language_info": {
      "codemirror_mode": {
        "name": "ipython",
        "version": 3
      },
      "file_extension": ".py",
      "mimetype": "text/x-python",
      "name": "python",
      "nbconvert_exporter": "python",
      "pygments_lexer": "ipython3",
      "version": "3.8.5"
    },
    "colab": {
      "provenance": []
    }
  },
  "nbformat": 4,
  "nbformat_minor": 0
}