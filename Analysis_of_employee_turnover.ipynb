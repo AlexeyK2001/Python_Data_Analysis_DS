{
  "cells": [
    {
      "cell_type": "code",
      "execution_count": 25,
      "id": "54ce1810",
      "metadata": {
        "id": "54ce1810",
        "colab": {
          "base_uri": "https://localhost:8080/"
        },
        "outputId": "f0af8deb-2c34-49da-f648-4521fbd9e651"
      },
      "outputs": [
        {
          "output_type": "stream",
          "name": "stdout",
          "text": [
            "Drive already mounted at /content/drive; to attempt to forcibly remount, call drive.mount(\"/content/drive\", force_remount=True).\n"
          ]
        }
      ],
      "source": [
        "import pandas as pd\n",
        "import numpy as np\n",
        "import seaborn as sns\n",
        "import matplotlib.pyplot as plt\n",
        "from sklearn.model_selection import train_test_split\n",
        "from sklearn.preprocessing import LabelEncoder\n",
        "from sklearn.ensemble import RandomForestClassifier\n",
        "from sklearn.metrics import classification_report, confusion_matrix, accuracy_score\n",
        "%matplotlib inline\n",
        "from google.colab import drive\n",
        "drive.mount('/content/drive')"
      ]
    },
    {
      "cell_type": "markdown",
      "id": "4c59a011",
      "metadata": {
        "id": "4c59a011"
      },
      "source": [
        "Ви працюєте в HR відділі великої компанії. Керівництво компанії стурбоване відносно високою плинністю кадрів, і ваша команда повинна шукати шляхи зменшення кількості працівників, які залишають компанію. Команда повинна краще розуміти ситуацію, які співробітники, швидше за все, підуть і чому. Коли стане ясно, які фактори впливають на відтік співробітників, ви можете представити свої висновки разом із своїми ідеями щодо того, як зменшити плинність кадрів?\n",
        "Також вам варто надати керівництву компанії алгоритм для прогнозування того, які співробітники найімовірніше залишать компанію найближчим часом.   \n",
        "\n",
        "Дані щодо працівників компанії - employers.csv  \n",
        "  \n",
        "  \n",
        "- department - відділ, до якого належить співробітник.  \n",
        "- promoted - 1, якщо працівник отримав підвищення за попередні 24 місяці, 0 в іншому випадку.  \n",
        "- review — зведена оцінка, яку працівник отримав під час останнього інтерв'ю з керівником відділу.  \n",
        "- projects – у скількох проєктах бере участь співробітник.  \n",
        "- salary - з міркувань конфіденційності зарплата представлена трьома рівнями: низька, середня, висока.  \n",
        "- tenure - скільки років працівник працює в компанії.  \n",
        "- satisfaction - оцінка задоволеності співробітників роботою в компанії.  \n",
        "- bonus - 1, якщо працівник отримував премію за попередні 24 місяці, 0 в іншому випадку.  \n",
        "- avg_hrs_month - середня кількість годин, відпрацьованих працівником за місяць.  \n",
        "- left - \"yes\", якщо співробітник залишив компанію, \"no\" в протидежному випадку.  "
      ]
    },
    {
      "cell_type": "code",
      "execution_count": 26,
      "id": "363a5967",
      "metadata": {
        "id": "363a5967"
      },
      "outputs": [],
      "source": [
        "data = pd.read_csv('/content/drive/MyDrive/magister_Python/employeers.csv')"
      ]
    },
    {
      "cell_type": "code",
      "execution_count": 27,
      "id": "5a01d5bf",
      "metadata": {
        "id": "5a01d5bf",
        "outputId": "c8165794-0808-49be-a5b9-91fd04812e40",
        "colab": {
          "base_uri": "https://localhost:8080/",
          "height": 206
        }
      },
      "outputs": [
        {
          "output_type": "execute_result",
          "data": {
            "text/plain": [
              "   department  promoted    review  projects  salary  tenure  satisfaction  \\\n",
              "0  operations         0  0.577569         3     low     5.0      0.626759   \n",
              "1  operations         0  0.751900         3  medium     6.0      0.443679   \n",
              "2     support         0  0.722548         3  medium     6.0      0.446823   \n",
              "3   logistics         0  0.675158         4    high     8.0      0.440139   \n",
              "4       sales         0  0.676203         3    high     5.0      0.577607   \n",
              "\n",
              "   bonus  avg_hrs_month left  \n",
              "0      0     180.866070   no  \n",
              "1      0     182.708149   no  \n",
              "2      0     184.416084   no  \n",
              "3      0     188.707545   no  \n",
              "4      1     179.821083   no  "
            ],
            "text/html": [
              "\n",
              "  <div id=\"df-a2c56d29-f957-4e0a-a9fd-1c7b44bfbdb8\" class=\"colab-df-container\">\n",
              "    <div>\n",
              "<style scoped>\n",
              "    .dataframe tbody tr th:only-of-type {\n",
              "        vertical-align: middle;\n",
              "    }\n",
              "\n",
              "    .dataframe tbody tr th {\n",
              "        vertical-align: top;\n",
              "    }\n",
              "\n",
              "    .dataframe thead th {\n",
              "        text-align: right;\n",
              "    }\n",
              "</style>\n",
              "<table border=\"1\" class=\"dataframe\">\n",
              "  <thead>\n",
              "    <tr style=\"text-align: right;\">\n",
              "      <th></th>\n",
              "      <th>department</th>\n",
              "      <th>promoted</th>\n",
              "      <th>review</th>\n",
              "      <th>projects</th>\n",
              "      <th>salary</th>\n",
              "      <th>tenure</th>\n",
              "      <th>satisfaction</th>\n",
              "      <th>bonus</th>\n",
              "      <th>avg_hrs_month</th>\n",
              "      <th>left</th>\n",
              "    </tr>\n",
              "  </thead>\n",
              "  <tbody>\n",
              "    <tr>\n",
              "      <th>0</th>\n",
              "      <td>operations</td>\n",
              "      <td>0</td>\n",
              "      <td>0.577569</td>\n",
              "      <td>3</td>\n",
              "      <td>low</td>\n",
              "      <td>5.0</td>\n",
              "      <td>0.626759</td>\n",
              "      <td>0</td>\n",
              "      <td>180.866070</td>\n",
              "      <td>no</td>\n",
              "    </tr>\n",
              "    <tr>\n",
              "      <th>1</th>\n",
              "      <td>operations</td>\n",
              "      <td>0</td>\n",
              "      <td>0.751900</td>\n",
              "      <td>3</td>\n",
              "      <td>medium</td>\n",
              "      <td>6.0</td>\n",
              "      <td>0.443679</td>\n",
              "      <td>0</td>\n",
              "      <td>182.708149</td>\n",
              "      <td>no</td>\n",
              "    </tr>\n",
              "    <tr>\n",
              "      <th>2</th>\n",
              "      <td>support</td>\n",
              "      <td>0</td>\n",
              "      <td>0.722548</td>\n",
              "      <td>3</td>\n",
              "      <td>medium</td>\n",
              "      <td>6.0</td>\n",
              "      <td>0.446823</td>\n",
              "      <td>0</td>\n",
              "      <td>184.416084</td>\n",
              "      <td>no</td>\n",
              "    </tr>\n",
              "    <tr>\n",
              "      <th>3</th>\n",
              "      <td>logistics</td>\n",
              "      <td>0</td>\n",
              "      <td>0.675158</td>\n",
              "      <td>4</td>\n",
              "      <td>high</td>\n",
              "      <td>8.0</td>\n",
              "      <td>0.440139</td>\n",
              "      <td>0</td>\n",
              "      <td>188.707545</td>\n",
              "      <td>no</td>\n",
              "    </tr>\n",
              "    <tr>\n",
              "      <th>4</th>\n",
              "      <td>sales</td>\n",
              "      <td>0</td>\n",
              "      <td>0.676203</td>\n",
              "      <td>3</td>\n",
              "      <td>high</td>\n",
              "      <td>5.0</td>\n",
              "      <td>0.577607</td>\n",
              "      <td>1</td>\n",
              "      <td>179.821083</td>\n",
              "      <td>no</td>\n",
              "    </tr>\n",
              "  </tbody>\n",
              "</table>\n",
              "</div>\n",
              "    <div class=\"colab-df-buttons\">\n",
              "\n",
              "  <div class=\"colab-df-container\">\n",
              "    <button class=\"colab-df-convert\" onclick=\"convertToInteractive('df-a2c56d29-f957-4e0a-a9fd-1c7b44bfbdb8')\"\n",
              "            title=\"Convert this dataframe to an interactive table.\"\n",
              "            style=\"display:none;\">\n",
              "\n",
              "  <svg xmlns=\"http://www.w3.org/2000/svg\" height=\"24px\" viewBox=\"0 -960 960 960\">\n",
              "    <path d=\"M120-120v-720h720v720H120Zm60-500h600v-160H180v160Zm220 220h160v-160H400v160Zm0 220h160v-160H400v160ZM180-400h160v-160H180v160Zm440 0h160v-160H620v160ZM180-180h160v-160H180v160Zm440 0h160v-160H620v160Z\"/>\n",
              "  </svg>\n",
              "    </button>\n",
              "\n",
              "  <style>\n",
              "    .colab-df-container {\n",
              "      display:flex;\n",
              "      gap: 12px;\n",
              "    }\n",
              "\n",
              "    .colab-df-convert {\n",
              "      background-color: #E8F0FE;\n",
              "      border: none;\n",
              "      border-radius: 50%;\n",
              "      cursor: pointer;\n",
              "      display: none;\n",
              "      fill: #1967D2;\n",
              "      height: 32px;\n",
              "      padding: 0 0 0 0;\n",
              "      width: 32px;\n",
              "    }\n",
              "\n",
              "    .colab-df-convert:hover {\n",
              "      background-color: #E2EBFA;\n",
              "      box-shadow: 0px 1px 2px rgba(60, 64, 67, 0.3), 0px 1px 3px 1px rgba(60, 64, 67, 0.15);\n",
              "      fill: #174EA6;\n",
              "    }\n",
              "\n",
              "    .colab-df-buttons div {\n",
              "      margin-bottom: 4px;\n",
              "    }\n",
              "\n",
              "    [theme=dark] .colab-df-convert {\n",
              "      background-color: #3B4455;\n",
              "      fill: #D2E3FC;\n",
              "    }\n",
              "\n",
              "    [theme=dark] .colab-df-convert:hover {\n",
              "      background-color: #434B5C;\n",
              "      box-shadow: 0px 1px 3px 1px rgba(0, 0, 0, 0.15);\n",
              "      filter: drop-shadow(0px 1px 2px rgba(0, 0, 0, 0.3));\n",
              "      fill: #FFFFFF;\n",
              "    }\n",
              "  </style>\n",
              "\n",
              "    <script>\n",
              "      const buttonEl =\n",
              "        document.querySelector('#df-a2c56d29-f957-4e0a-a9fd-1c7b44bfbdb8 button.colab-df-convert');\n",
              "      buttonEl.style.display =\n",
              "        google.colab.kernel.accessAllowed ? 'block' : 'none';\n",
              "\n",
              "      async function convertToInteractive(key) {\n",
              "        const element = document.querySelector('#df-a2c56d29-f957-4e0a-a9fd-1c7b44bfbdb8');\n",
              "        const dataTable =\n",
              "          await google.colab.kernel.invokeFunction('convertToInteractive',\n",
              "                                                    [key], {});\n",
              "        if (!dataTable) return;\n",
              "\n",
              "        const docLinkHtml = 'Like what you see? Visit the ' +\n",
              "          '<a target=\"_blank\" href=https://colab.research.google.com/notebooks/data_table.ipynb>data table notebook</a>'\n",
              "          + ' to learn more about interactive tables.';\n",
              "        element.innerHTML = '';\n",
              "        dataTable['output_type'] = 'display_data';\n",
              "        await google.colab.output.renderOutput(dataTable, element);\n",
              "        const docLink = document.createElement('div');\n",
              "        docLink.innerHTML = docLinkHtml;\n",
              "        element.appendChild(docLink);\n",
              "      }\n",
              "    </script>\n",
              "  </div>\n",
              "\n",
              "\n",
              "<div id=\"df-94724409-4bc9-47cf-b214-78498be77316\">\n",
              "  <button class=\"colab-df-quickchart\" onclick=\"quickchart('df-94724409-4bc9-47cf-b214-78498be77316')\"\n",
              "            title=\"Suggest charts.\"\n",
              "            style=\"display:none;\">\n",
              "\n",
              "<svg xmlns=\"http://www.w3.org/2000/svg\" height=\"24px\"viewBox=\"0 0 24 24\"\n",
              "     width=\"24px\">\n",
              "    <g>\n",
              "        <path d=\"M19 3H5c-1.1 0-2 .9-2 2v14c0 1.1.9 2 2 2h14c1.1 0 2-.9 2-2V5c0-1.1-.9-2-2-2zM9 17H7v-7h2v7zm4 0h-2V7h2v10zm4 0h-2v-4h2v4z\"/>\n",
              "    </g>\n",
              "</svg>\n",
              "  </button>\n",
              "\n",
              "<style>\n",
              "  .colab-df-quickchart {\n",
              "      --bg-color: #E8F0FE;\n",
              "      --fill-color: #1967D2;\n",
              "      --hover-bg-color: #E2EBFA;\n",
              "      --hover-fill-color: #174EA6;\n",
              "      --disabled-fill-color: #AAA;\n",
              "      --disabled-bg-color: #DDD;\n",
              "  }\n",
              "\n",
              "  [theme=dark] .colab-df-quickchart {\n",
              "      --bg-color: #3B4455;\n",
              "      --fill-color: #D2E3FC;\n",
              "      --hover-bg-color: #434B5C;\n",
              "      --hover-fill-color: #FFFFFF;\n",
              "      --disabled-bg-color: #3B4455;\n",
              "      --disabled-fill-color: #666;\n",
              "  }\n",
              "\n",
              "  .colab-df-quickchart {\n",
              "    background-color: var(--bg-color);\n",
              "    border: none;\n",
              "    border-radius: 50%;\n",
              "    cursor: pointer;\n",
              "    display: none;\n",
              "    fill: var(--fill-color);\n",
              "    height: 32px;\n",
              "    padding: 0;\n",
              "    width: 32px;\n",
              "  }\n",
              "\n",
              "  .colab-df-quickchart:hover {\n",
              "    background-color: var(--hover-bg-color);\n",
              "    box-shadow: 0 1px 2px rgba(60, 64, 67, 0.3), 0 1px 3px 1px rgba(60, 64, 67, 0.15);\n",
              "    fill: var(--button-hover-fill-color);\n",
              "  }\n",
              "\n",
              "  .colab-df-quickchart-complete:disabled,\n",
              "  .colab-df-quickchart-complete:disabled:hover {\n",
              "    background-color: var(--disabled-bg-color);\n",
              "    fill: var(--disabled-fill-color);\n",
              "    box-shadow: none;\n",
              "  }\n",
              "\n",
              "  .colab-df-spinner {\n",
              "    border: 2px solid var(--fill-color);\n",
              "    border-color: transparent;\n",
              "    border-bottom-color: var(--fill-color);\n",
              "    animation:\n",
              "      spin 1s steps(1) infinite;\n",
              "  }\n",
              "\n",
              "  @keyframes spin {\n",
              "    0% {\n",
              "      border-color: transparent;\n",
              "      border-bottom-color: var(--fill-color);\n",
              "      border-left-color: var(--fill-color);\n",
              "    }\n",
              "    20% {\n",
              "      border-color: transparent;\n",
              "      border-left-color: var(--fill-color);\n",
              "      border-top-color: var(--fill-color);\n",
              "    }\n",
              "    30% {\n",
              "      border-color: transparent;\n",
              "      border-left-color: var(--fill-color);\n",
              "      border-top-color: var(--fill-color);\n",
              "      border-right-color: var(--fill-color);\n",
              "    }\n",
              "    40% {\n",
              "      border-color: transparent;\n",
              "      border-right-color: var(--fill-color);\n",
              "      border-top-color: var(--fill-color);\n",
              "    }\n",
              "    60% {\n",
              "      border-color: transparent;\n",
              "      border-right-color: var(--fill-color);\n",
              "    }\n",
              "    80% {\n",
              "      border-color: transparent;\n",
              "      border-right-color: var(--fill-color);\n",
              "      border-bottom-color: var(--fill-color);\n",
              "    }\n",
              "    90% {\n",
              "      border-color: transparent;\n",
              "      border-bottom-color: var(--fill-color);\n",
              "    }\n",
              "  }\n",
              "</style>\n",
              "\n",
              "  <script>\n",
              "    async function quickchart(key) {\n",
              "      const quickchartButtonEl =\n",
              "        document.querySelector('#' + key + ' button');\n",
              "      quickchartButtonEl.disabled = true;  // To prevent multiple clicks.\n",
              "      quickchartButtonEl.classList.add('colab-df-spinner');\n",
              "      try {\n",
              "        const charts = await google.colab.kernel.invokeFunction(\n",
              "            'suggestCharts', [key], {});\n",
              "      } catch (error) {\n",
              "        console.error('Error during call to suggestCharts:', error);\n",
              "      }\n",
              "      quickchartButtonEl.classList.remove('colab-df-spinner');\n",
              "      quickchartButtonEl.classList.add('colab-df-quickchart-complete');\n",
              "    }\n",
              "    (() => {\n",
              "      let quickchartButtonEl =\n",
              "        document.querySelector('#df-94724409-4bc9-47cf-b214-78498be77316 button');\n",
              "      quickchartButtonEl.style.display =\n",
              "        google.colab.kernel.accessAllowed ? 'block' : 'none';\n",
              "    })();\n",
              "  </script>\n",
              "</div>\n",
              "    </div>\n",
              "  </div>\n"
            ]
          },
          "metadata": {},
          "execution_count": 27
        }
      ],
      "source": [
        "data.head()"
      ]
    },
    {
      "cell_type": "markdown",
      "source": [
        "Трансформуємо значення змінної \"left\" в 0 або 1"
      ],
      "metadata": {
        "id": "QZw0ogidFMO4"
      },
      "id": "QZw0ogidFMO4"
    },
    {
      "cell_type": "code",
      "source": [
        "data.corr()"
      ],
      "metadata": {
        "id": "uXCN9niEMR0s",
        "outputId": "c3fc4b7a-fdd1-45f1-b8e0-645087906a0b",
        "colab": {
          "base_uri": "https://localhost:8080/",
          "height": 324
        }
      },
      "id": "uXCN9niEMR0s",
      "execution_count": 28,
      "outputs": [
        {
          "output_type": "stream",
          "name": "stderr",
          "text": [
            "<ipython-input-28-c44ded798807>:1: FutureWarning: The default value of numeric_only in DataFrame.corr is deprecated. In a future version, it will default to False. Select only valid columns or specify the value of numeric_only to silence this warning.\n",
            "  data.corr()\n"
          ]
        },
        {
          "output_type": "execute_result",
          "data": {
            "text/plain": [
              "               promoted    review  projects    tenure  satisfaction     bonus  \\\n",
              "promoted       1.000000  0.001879  0.010107  0.001410     -0.011704  0.001072   \n",
              "review         0.001879  1.000000  0.000219 -0.184133     -0.349778 -0.003627   \n",
              "projects       0.010107  0.000219  1.000000  0.022596      0.002714  0.002654   \n",
              "tenure         0.001410 -0.184133  0.022596  1.000000     -0.146246 -0.000392   \n",
              "satisfaction  -0.011704 -0.349778  0.002714 -0.146246      1.000000  0.000704   \n",
              "bonus          0.001072 -0.003627  0.002654 -0.000392      0.000704  1.000000   \n",
              "avg_hrs_month -0.002190 -0.196096  0.021299  0.978618     -0.143142 -0.000370   \n",
              "\n",
              "               avg_hrs_month  \n",
              "promoted           -0.002190  \n",
              "review             -0.196096  \n",
              "projects            0.021299  \n",
              "tenure              0.978618  \n",
              "satisfaction       -0.143142  \n",
              "bonus              -0.000370  \n",
              "avg_hrs_month       1.000000  "
            ],
            "text/html": [
              "\n",
              "  <div id=\"df-041828e1-4ff1-4d29-81b0-a42719212023\" class=\"colab-df-container\">\n",
              "    <div>\n",
              "<style scoped>\n",
              "    .dataframe tbody tr th:only-of-type {\n",
              "        vertical-align: middle;\n",
              "    }\n",
              "\n",
              "    .dataframe tbody tr th {\n",
              "        vertical-align: top;\n",
              "    }\n",
              "\n",
              "    .dataframe thead th {\n",
              "        text-align: right;\n",
              "    }\n",
              "</style>\n",
              "<table border=\"1\" class=\"dataframe\">\n",
              "  <thead>\n",
              "    <tr style=\"text-align: right;\">\n",
              "      <th></th>\n",
              "      <th>promoted</th>\n",
              "      <th>review</th>\n",
              "      <th>projects</th>\n",
              "      <th>tenure</th>\n",
              "      <th>satisfaction</th>\n",
              "      <th>bonus</th>\n",
              "      <th>avg_hrs_month</th>\n",
              "    </tr>\n",
              "  </thead>\n",
              "  <tbody>\n",
              "    <tr>\n",
              "      <th>promoted</th>\n",
              "      <td>1.000000</td>\n",
              "      <td>0.001879</td>\n",
              "      <td>0.010107</td>\n",
              "      <td>0.001410</td>\n",
              "      <td>-0.011704</td>\n",
              "      <td>0.001072</td>\n",
              "      <td>-0.002190</td>\n",
              "    </tr>\n",
              "    <tr>\n",
              "      <th>review</th>\n",
              "      <td>0.001879</td>\n",
              "      <td>1.000000</td>\n",
              "      <td>0.000219</td>\n",
              "      <td>-0.184133</td>\n",
              "      <td>-0.349778</td>\n",
              "      <td>-0.003627</td>\n",
              "      <td>-0.196096</td>\n",
              "    </tr>\n",
              "    <tr>\n",
              "      <th>projects</th>\n",
              "      <td>0.010107</td>\n",
              "      <td>0.000219</td>\n",
              "      <td>1.000000</td>\n",
              "      <td>0.022596</td>\n",
              "      <td>0.002714</td>\n",
              "      <td>0.002654</td>\n",
              "      <td>0.021299</td>\n",
              "    </tr>\n",
              "    <tr>\n",
              "      <th>tenure</th>\n",
              "      <td>0.001410</td>\n",
              "      <td>-0.184133</td>\n",
              "      <td>0.022596</td>\n",
              "      <td>1.000000</td>\n",
              "      <td>-0.146246</td>\n",
              "      <td>-0.000392</td>\n",
              "      <td>0.978618</td>\n",
              "    </tr>\n",
              "    <tr>\n",
              "      <th>satisfaction</th>\n",
              "      <td>-0.011704</td>\n",
              "      <td>-0.349778</td>\n",
              "      <td>0.002714</td>\n",
              "      <td>-0.146246</td>\n",
              "      <td>1.000000</td>\n",
              "      <td>0.000704</td>\n",
              "      <td>-0.143142</td>\n",
              "    </tr>\n",
              "    <tr>\n",
              "      <th>bonus</th>\n",
              "      <td>0.001072</td>\n",
              "      <td>-0.003627</td>\n",
              "      <td>0.002654</td>\n",
              "      <td>-0.000392</td>\n",
              "      <td>0.000704</td>\n",
              "      <td>1.000000</td>\n",
              "      <td>-0.000370</td>\n",
              "    </tr>\n",
              "    <tr>\n",
              "      <th>avg_hrs_month</th>\n",
              "      <td>-0.002190</td>\n",
              "      <td>-0.196096</td>\n",
              "      <td>0.021299</td>\n",
              "      <td>0.978618</td>\n",
              "      <td>-0.143142</td>\n",
              "      <td>-0.000370</td>\n",
              "      <td>1.000000</td>\n",
              "    </tr>\n",
              "  </tbody>\n",
              "</table>\n",
              "</div>\n",
              "    <div class=\"colab-df-buttons\">\n",
              "\n",
              "  <div class=\"colab-df-container\">\n",
              "    <button class=\"colab-df-convert\" onclick=\"convertToInteractive('df-041828e1-4ff1-4d29-81b0-a42719212023')\"\n",
              "            title=\"Convert this dataframe to an interactive table.\"\n",
              "            style=\"display:none;\">\n",
              "\n",
              "  <svg xmlns=\"http://www.w3.org/2000/svg\" height=\"24px\" viewBox=\"0 -960 960 960\">\n",
              "    <path d=\"M120-120v-720h720v720H120Zm60-500h600v-160H180v160Zm220 220h160v-160H400v160Zm0 220h160v-160H400v160ZM180-400h160v-160H180v160Zm440 0h160v-160H620v160ZM180-180h160v-160H180v160Zm440 0h160v-160H620v160Z\"/>\n",
              "  </svg>\n",
              "    </button>\n",
              "\n",
              "  <style>\n",
              "    .colab-df-container {\n",
              "      display:flex;\n",
              "      gap: 12px;\n",
              "    }\n",
              "\n",
              "    .colab-df-convert {\n",
              "      background-color: #E8F0FE;\n",
              "      border: none;\n",
              "      border-radius: 50%;\n",
              "      cursor: pointer;\n",
              "      display: none;\n",
              "      fill: #1967D2;\n",
              "      height: 32px;\n",
              "      padding: 0 0 0 0;\n",
              "      width: 32px;\n",
              "    }\n",
              "\n",
              "    .colab-df-convert:hover {\n",
              "      background-color: #E2EBFA;\n",
              "      box-shadow: 0px 1px 2px rgba(60, 64, 67, 0.3), 0px 1px 3px 1px rgba(60, 64, 67, 0.15);\n",
              "      fill: #174EA6;\n",
              "    }\n",
              "\n",
              "    .colab-df-buttons div {\n",
              "      margin-bottom: 4px;\n",
              "    }\n",
              "\n",
              "    [theme=dark] .colab-df-convert {\n",
              "      background-color: #3B4455;\n",
              "      fill: #D2E3FC;\n",
              "    }\n",
              "\n",
              "    [theme=dark] .colab-df-convert:hover {\n",
              "      background-color: #434B5C;\n",
              "      box-shadow: 0px 1px 3px 1px rgba(0, 0, 0, 0.15);\n",
              "      filter: drop-shadow(0px 1px 2px rgba(0, 0, 0, 0.3));\n",
              "      fill: #FFFFFF;\n",
              "    }\n",
              "  </style>\n",
              "\n",
              "    <script>\n",
              "      const buttonEl =\n",
              "        document.querySelector('#df-041828e1-4ff1-4d29-81b0-a42719212023 button.colab-df-convert');\n",
              "      buttonEl.style.display =\n",
              "        google.colab.kernel.accessAllowed ? 'block' : 'none';\n",
              "\n",
              "      async function convertToInteractive(key) {\n",
              "        const element = document.querySelector('#df-041828e1-4ff1-4d29-81b0-a42719212023');\n",
              "        const dataTable =\n",
              "          await google.colab.kernel.invokeFunction('convertToInteractive',\n",
              "                                                    [key], {});\n",
              "        if (!dataTable) return;\n",
              "\n",
              "        const docLinkHtml = 'Like what you see? Visit the ' +\n",
              "          '<a target=\"_blank\" href=https://colab.research.google.com/notebooks/data_table.ipynb>data table notebook</a>'\n",
              "          + ' to learn more about interactive tables.';\n",
              "        element.innerHTML = '';\n",
              "        dataTable['output_type'] = 'display_data';\n",
              "        await google.colab.output.renderOutput(dataTable, element);\n",
              "        const docLink = document.createElement('div');\n",
              "        docLink.innerHTML = docLinkHtml;\n",
              "        element.appendChild(docLink);\n",
              "      }\n",
              "    </script>\n",
              "  </div>\n",
              "\n",
              "\n",
              "<div id=\"df-f7294e2f-7a49-4028-abd3-c68b0e4036b6\">\n",
              "  <button class=\"colab-df-quickchart\" onclick=\"quickchart('df-f7294e2f-7a49-4028-abd3-c68b0e4036b6')\"\n",
              "            title=\"Suggest charts.\"\n",
              "            style=\"display:none;\">\n",
              "\n",
              "<svg xmlns=\"http://www.w3.org/2000/svg\" height=\"24px\"viewBox=\"0 0 24 24\"\n",
              "     width=\"24px\">\n",
              "    <g>\n",
              "        <path d=\"M19 3H5c-1.1 0-2 .9-2 2v14c0 1.1.9 2 2 2h14c1.1 0 2-.9 2-2V5c0-1.1-.9-2-2-2zM9 17H7v-7h2v7zm4 0h-2V7h2v10zm4 0h-2v-4h2v4z\"/>\n",
              "    </g>\n",
              "</svg>\n",
              "  </button>\n",
              "\n",
              "<style>\n",
              "  .colab-df-quickchart {\n",
              "      --bg-color: #E8F0FE;\n",
              "      --fill-color: #1967D2;\n",
              "      --hover-bg-color: #E2EBFA;\n",
              "      --hover-fill-color: #174EA6;\n",
              "      --disabled-fill-color: #AAA;\n",
              "      --disabled-bg-color: #DDD;\n",
              "  }\n",
              "\n",
              "  [theme=dark] .colab-df-quickchart {\n",
              "      --bg-color: #3B4455;\n",
              "      --fill-color: #D2E3FC;\n",
              "      --hover-bg-color: #434B5C;\n",
              "      --hover-fill-color: #FFFFFF;\n",
              "      --disabled-bg-color: #3B4455;\n",
              "      --disabled-fill-color: #666;\n",
              "  }\n",
              "\n",
              "  .colab-df-quickchart {\n",
              "    background-color: var(--bg-color);\n",
              "    border: none;\n",
              "    border-radius: 50%;\n",
              "    cursor: pointer;\n",
              "    display: none;\n",
              "    fill: var(--fill-color);\n",
              "    height: 32px;\n",
              "    padding: 0;\n",
              "    width: 32px;\n",
              "  }\n",
              "\n",
              "  .colab-df-quickchart:hover {\n",
              "    background-color: var(--hover-bg-color);\n",
              "    box-shadow: 0 1px 2px rgba(60, 64, 67, 0.3), 0 1px 3px 1px rgba(60, 64, 67, 0.15);\n",
              "    fill: var(--button-hover-fill-color);\n",
              "  }\n",
              "\n",
              "  .colab-df-quickchart-complete:disabled,\n",
              "  .colab-df-quickchart-complete:disabled:hover {\n",
              "    background-color: var(--disabled-bg-color);\n",
              "    fill: var(--disabled-fill-color);\n",
              "    box-shadow: none;\n",
              "  }\n",
              "\n",
              "  .colab-df-spinner {\n",
              "    border: 2px solid var(--fill-color);\n",
              "    border-color: transparent;\n",
              "    border-bottom-color: var(--fill-color);\n",
              "    animation:\n",
              "      spin 1s steps(1) infinite;\n",
              "  }\n",
              "\n",
              "  @keyframes spin {\n",
              "    0% {\n",
              "      border-color: transparent;\n",
              "      border-bottom-color: var(--fill-color);\n",
              "      border-left-color: var(--fill-color);\n",
              "    }\n",
              "    20% {\n",
              "      border-color: transparent;\n",
              "      border-left-color: var(--fill-color);\n",
              "      border-top-color: var(--fill-color);\n",
              "    }\n",
              "    30% {\n",
              "      border-color: transparent;\n",
              "      border-left-color: var(--fill-color);\n",
              "      border-top-color: var(--fill-color);\n",
              "      border-right-color: var(--fill-color);\n",
              "    }\n",
              "    40% {\n",
              "      border-color: transparent;\n",
              "      border-right-color: var(--fill-color);\n",
              "      border-top-color: var(--fill-color);\n",
              "    }\n",
              "    60% {\n",
              "      border-color: transparent;\n",
              "      border-right-color: var(--fill-color);\n",
              "    }\n",
              "    80% {\n",
              "      border-color: transparent;\n",
              "      border-right-color: var(--fill-color);\n",
              "      border-bottom-color: var(--fill-color);\n",
              "    }\n",
              "    90% {\n",
              "      border-color: transparent;\n",
              "      border-bottom-color: var(--fill-color);\n",
              "    }\n",
              "  }\n",
              "</style>\n",
              "\n",
              "  <script>\n",
              "    async function quickchart(key) {\n",
              "      const quickchartButtonEl =\n",
              "        document.querySelector('#' + key + ' button');\n",
              "      quickchartButtonEl.disabled = true;  // To prevent multiple clicks.\n",
              "      quickchartButtonEl.classList.add('colab-df-spinner');\n",
              "      try {\n",
              "        const charts = await google.colab.kernel.invokeFunction(\n",
              "            'suggestCharts', [key], {});\n",
              "      } catch (error) {\n",
              "        console.error('Error during call to suggestCharts:', error);\n",
              "      }\n",
              "      quickchartButtonEl.classList.remove('colab-df-spinner');\n",
              "      quickchartButtonEl.classList.add('colab-df-quickchart-complete');\n",
              "    }\n",
              "    (() => {\n",
              "      let quickchartButtonEl =\n",
              "        document.querySelector('#df-f7294e2f-7a49-4028-abd3-c68b0e4036b6 button');\n",
              "      quickchartButtonEl.style.display =\n",
              "        google.colab.kernel.accessAllowed ? 'block' : 'none';\n",
              "    })();\n",
              "  </script>\n",
              "</div>\n",
              "    </div>\n",
              "  </div>\n"
            ]
          },
          "metadata": {},
          "execution_count": 28
        }
      ]
    },
    {
      "cell_type": "markdown",
      "source": [
        "Аналіз на мультиколеніарність"
      ],
      "metadata": {
        "id": "8qP7BQXcj08g"
      },
      "id": "8qP7BQXcj08g"
    },
    {
      "cell_type": "code",
      "source": [
        "import statsmodels.api as sm\n",
        "from statsmodels.stats.outliers_influence import variance_inflation_factor\n",
        "\n",
        "# Assuming X is your feature matrix (excluding the target variable)\n",
        "# Add a constant to the feature matrix for the intercept term\n",
        "X_const = sm.add_constant(X)\n",
        "\n",
        "# Calculate VIF for each predictor variable\n",
        "vif = pd.DataFrame()\n",
        "vif[\"Variable\"] = X_const.columns\n",
        "vif[\"VIF\"] = [variance_inflation_factor(X_const.values, i) for i in range(X_const.shape[1])]\n",
        "\n",
        "# Check for variables with high VIF (usually VIF > 10 is considered problematic)\n",
        "problematic_variables = vif[vif[\"VIF\"] > 10]\n",
        "\n",
        "# Print the variables with high VIF\n",
        "print(\"Variables with high VIF:\")\n",
        "print(problematic_variables)\n"
      ],
      "metadata": {
        "colab": {
          "base_uri": "https://localhost:8080/"
        },
        "id": "67Uu4Hocj4VR",
        "outputId": "28cfa9d8-5df1-4b98-9fad-ef161b24b631"
      },
      "id": "67Uu4Hocj4VR",
      "execution_count": 29,
      "outputs": [
        {
          "output_type": "stream",
          "name": "stdout",
          "text": [
            "Variables with high VIF:\n",
            "        Variable           VIF\n",
            "0          const  38774.308637\n",
            "6         tenure     23.699471\n",
            "9  avg_hrs_month     23.831378\n"
          ]
        }
      ]
    },
    {
      "cell_type": "markdown",
      "source": [
        "Дані змінні мають високий взаємозв'язок з іншими факторами, їх можна не використовувати в подальшому дослідженні, або ретельно перевіряти результати, які вони нададуть у моделях та мати на увазі їхню можливу неточність"
      ],
      "metadata": {
        "id": "YhzKgkucwKfN"
      },
      "id": "YhzKgkucwKfN"
    },
    {
      "cell_type": "markdown",
      "source": [
        "**Дослідження та візуалізація даних**"
      ],
      "metadata": {
        "id": "iKjPSBvBcyOu"
      },
      "id": "iKjPSBvBcyOu"
    },
    {
      "cell_type": "code",
      "source": [
        "print(data.describe())\n",
        "\n"
      ],
      "metadata": {
        "id": "7CLr10Ybb0dE",
        "colab": {
          "base_uri": "https://localhost:8080/"
        },
        "outputId": "532221ea-e01e-49c2-a53f-b13c6d8f4f04"
      },
      "id": "7CLr10Ybb0dE",
      "execution_count": 30,
      "outputs": [
        {
          "output_type": "stream",
          "name": "stdout",
          "text": [
            "          promoted       review     projects       tenure  satisfaction  \\\n",
            "count  9540.000000  9540.000000  9540.000000  9540.000000   9540.000000   \n",
            "mean      0.030294     0.651826     3.274843     6.556184      0.504645   \n",
            "std       0.171403     0.085307     0.579136     1.415432      0.158555   \n",
            "min       0.000000     0.310000     2.000000     2.000000      0.000000   \n",
            "25%       0.000000     0.592884     3.000000     5.000000      0.386801   \n",
            "50%       0.000000     0.647456     3.000000     7.000000      0.500786   \n",
            "75%       0.000000     0.708379     4.000000     8.000000      0.622607   \n",
            "max       1.000000     1.000000     5.000000    12.000000      1.000000   \n",
            "\n",
            "             bonus  avg_hrs_month  \n",
            "count  9540.000000    9540.000000  \n",
            "mean      0.212055     184.661571  \n",
            "std       0.408785       4.144831  \n",
            "min       0.000000     171.374060  \n",
            "25%       0.000000     181.472085  \n",
            "50%       0.000000     184.628796  \n",
            "75%       0.000000     187.728708  \n",
            "max       1.000000     200.861656  \n"
          ]
        }
      ]
    },
    {
      "cell_type": "markdown",
      "source": [
        "Для подальшого дослідження, трансформуємо категоріальні змінні"
      ],
      "metadata": {
        "id": "ldLf-BOFwlof"
      },
      "id": "ldLf-BOFwlof"
    },
    {
      "cell_type": "code",
      "source": [
        "# Encode categorical variables\n",
        "le = LabelEncoder()\n",
        "data['department'] = le.fit_transform(data['department'])\n",
        "data['salary'] = le.fit_transform(data['salary'])\n",
        "\n",
        "# Split the data into features (X) and target (y)\n",
        "X = data.drop('left', axis=1)\n",
        "y = data['left']\n",
        "\n",
        "# Split the data into training and testing sets\n",
        "X_train, X_test, y_train, y_test = train_test_split(X, y, test_size=0.2, random_state=42)\n"
      ],
      "metadata": {
        "id": "rQF00Kv2fDc_"
      },
      "id": "rQF00Kv2fDc_",
      "execution_count": 31,
      "outputs": []
    },
    {
      "cell_type": "markdown",
      "source": [
        "Для того, щоб дізнатися, які фактори більш суттєво впливають на результуючу змінну, скористаємось класифікатором випадкового лісу"
      ],
      "metadata": {
        "id": "gwVFmVGWwtmQ"
      },
      "id": "gwVFmVGWwtmQ"
    },
    {
      "cell_type": "code",
      "source": [
        "# Create a Random Forest classifier\n",
        "clf = RandomForestClassifier(random_state=42)\n",
        "\n",
        "# Train the model\n",
        "clf.fit(X_train, y_train)\n",
        "\n",
        "# Predict on the test set\n",
        "y_pred = clf.predict(X_test)\n"
      ],
      "metadata": {
        "id": "U6lI7m72fFDw"
      },
      "id": "U6lI7m72fFDw",
      "execution_count": 32,
      "outputs": []
    },
    {
      "cell_type": "code",
      "source": [
        "# Evaluate the model\n",
        "print(\"Accuracy:\", accuracy_score(y_test, y_pred))\n",
        "print(\"Confusion Matrix:\\n\", confusion_matrix(y_test, y_pred))\n",
        "print(\"Classification Report:\\n\", classification_report(y_test, y_pred))\n"
      ],
      "metadata": {
        "colab": {
          "base_uri": "https://localhost:8080/"
        },
        "id": "pMn-3WM4fKMr",
        "outputId": "52fe4539-6ccf-4ae2-b2bf-21701910d6b7"
      },
      "id": "pMn-3WM4fKMr",
      "execution_count": 33,
      "outputs": [
        {
          "output_type": "stream",
          "name": "stdout",
          "text": [
            "Accuracy: 0.8590146750524109\n",
            "Confusion Matrix:\n",
            " [[1239   91]\n",
            " [ 178  400]]\n",
            "Classification Report:\n",
            "               precision    recall  f1-score   support\n",
            "\n",
            "          no       0.87      0.93      0.90      1330\n",
            "         yes       0.81      0.69      0.75       578\n",
            "\n",
            "    accuracy                           0.86      1908\n",
            "   macro avg       0.84      0.81      0.83      1908\n",
            "weighted avg       0.86      0.86      0.86      1908\n",
            "\n"
          ]
        }
      ]
    },
    {
      "cell_type": "markdown",
      "source": [
        "Побудована модель має непогану здатність прогнозування, дізнаємось найбільш вагомі фактори моделі"
      ],
      "metadata": {
        "id": "LFPPeJ4Lw93j"
      },
      "id": "LFPPeJ4Lw93j"
    },
    {
      "cell_type": "code",
      "source": [
        "# Get feature importances\n",
        "feature_importances = clf.feature_importances_\n",
        "\n",
        "# Create a DataFrame to display feature importances\n",
        "feature_importance_df = pd.DataFrame({'Feature': X.columns, 'Importance': feature_importances})\n",
        "\n",
        "# Sort the DataFrame by importance\n",
        "feature_importance_df = feature_importance_df.sort_values(by='Importance', ascending=False)\n",
        "\n",
        "# Visualize feature importances\n",
        "plt.figure(figsize=(10, 6))\n",
        "sns.barplot(x='Importance', y='Feature', data=feature_importance_df)\n",
        "plt.title('Feature Importances')\n",
        "plt.show()\n"
      ],
      "metadata": {
        "colab": {
          "base_uri": "https://localhost:8080/",
          "height": 564
        },
        "id": "1TJf0U5JfLw8",
        "outputId": "ba64ea50-7f05-423b-a2c9-874f0c259ab7"
      },
      "id": "1TJf0U5JfLw8",
      "execution_count": 34,
      "outputs": [
        {
          "output_type": "display_data",
          "data": {
            "text/plain": [
              "<Figure size 1000x600 with 1 Axes>"
            ],
            "image/png": "[encoded data removed]"
          },
          "metadata": {}
        }
      ]
    },
    {
      "cell_type": "markdown",
      "source": [
        "Маємо 3 найбільш впливаючі змінні, дослідимо вплив кожної з них окремо на результуючу змінну"
      ],
      "metadata": {
        "id": "N0XsPCJKvQbz"
      },
      "id": "N0XsPCJKvQbz"
    },
    {
      "cell_type": "markdown",
      "source": [
        "Logistic Regression for \"Satisfaction\""
      ],
      "metadata": {
        "id": "jCO7MFN5g-NL"
      },
      "id": "jCO7MFN5g-NL"
    },
    {
      "cell_type": "code",
      "source": [
        "from sklearn.linear_model import LogisticRegression\n",
        "\n",
        "# Create a DataFrame with only the \"satisfaction\" feature\n",
        "X_satisfaction = data[['satisfaction']]\n",
        "y = data['left']\n",
        "\n",
        "# Split the data into training and testing sets\n",
        "X_train_satisfaction, X_test_satisfaction, y_train, y_test = train_test_split(X_satisfaction, y, test_size=0.2, random_state=42)\n",
        "\n",
        "# Create and train the logistic regression model\n",
        "logistic_regression_satisfaction = LogisticRegression()\n",
        "logistic_regression_satisfaction.fit(X_train_satisfaction, y_train)\n",
        "\n",
        "# Predict on the test set\n",
        "y_pred_satisfaction = logistic_regression_satisfaction.predict(X_test_satisfaction)\n",
        "\n",
        "# Evaluate the model\n",
        "print(\"Accuracy (Satisfaction):\", accuracy_score(y_test, y_pred_satisfaction))\n",
        "print(\"Confusion Matrix (Satisfaction):\\n\", confusion_matrix(y_test, y_pred_satisfaction))\n",
        "print(\"Classification Report (Satisfaction):\\n\", classification_report(y_test, y_pred_satisfaction))\n"
      ],
      "metadata": {
        "colab": {
          "base_uri": "https://localhost:8080/"
        },
        "id": "9u6vYWQphAd0",
        "outputId": "c311ca62-eac4-4564-a163-d0da447c9405"
      },
      "id": "9u6vYWQphAd0",
      "execution_count": 14,
      "outputs": [
        {
          "output_type": "stream",
          "name": "stdout",
          "text": [
            "Accuracy (Satisfaction): 0.6970649895178197\n",
            "Confusion Matrix (Satisfaction):\n",
            " [[1330    0]\n",
            " [ 578    0]]\n",
            "Classification Report (Satisfaction):\n",
            "               precision    recall  f1-score   support\n",
            "\n",
            "          no       0.70      1.00      0.82      1330\n",
            "         yes       0.00      0.00      0.00       578\n",
            "\n",
            "    accuracy                           0.70      1908\n",
            "   macro avg       0.35      0.50      0.41      1908\n",
            "weighted avg       0.49      0.70      0.57      1908\n",
            "\n"
          ]
        },
        {
          "output_type": "stream",
          "name": "stderr",
          "text": [
            "/usr/local/lib/python3.10/dist-packages/sklearn/metrics/_classification.py:1344: UndefinedMetricWarning: Precision and F-score are ill-defined and being set to 0.0 in labels with no predicted samples. Use `zero_division` parameter to control this behavior.\n",
            "  _warn_prf(average, modifier, msg_start, len(result))\n",
            "/usr/local/lib/python3.10/dist-packages/sklearn/metrics/_classification.py:1344: UndefinedMetricWarning: Precision and F-score are ill-defined and being set to 0.0 in labels with no predicted samples. Use `zero_division` parameter to control this behavior.\n",
            "  _warn_prf(average, modifier, msg_start, len(result))\n",
            "/usr/local/lib/python3.10/dist-packages/sklearn/metrics/_classification.py:1344: UndefinedMetricWarning: Precision and F-score are ill-defined and being set to 0.0 in labels with no predicted samples. Use `zero_division` parameter to control this behavior.\n",
            "  _warn_prf(average, modifier, msg_start, len(result))\n"
          ]
        }
      ]
    },
    {
      "cell_type": "markdown",
      "source": [
        "Logistic Regression for \"avg_hrs_month\""
      ],
      "metadata": {
        "id": "Km4s0gkXhGDW"
      },
      "id": "Km4s0gkXhGDW"
    },
    {
      "cell_type": "code",
      "source": [
        "# Create a DataFrame with only the \"avg_hrs_month\" feature\n",
        "X_avg_hrs_month = data[['avg_hrs_month']]\n",
        "\n",
        "# Split the data into training and testing sets\n",
        "X_train_avg_hrs_month, X_test_avg_hrs_month, y_train, y_test = train_test_split(X_avg_hrs_month, y, test_size=0.2, random_state=42)\n",
        "\n",
        "# Create and train the logistic regression model\n",
        "logistic_regression_avg_hrs_month = LogisticRegression()\n",
        "logistic_regression_avg_hrs_month.fit(X_train_avg_hrs_month, y_train)\n",
        "\n",
        "# Predict on the test set\n",
        "y_pred_avg_hrs_month = logistic_regression_avg_hrs_month.predict(X_test_avg_hrs_month)\n",
        "\n",
        "# Evaluate the model\n",
        "print(\"Accuracy (avg_hrs_month):\", accuracy_score(y_test, y_pred_avg_hrs_month))\n",
        "print(\"Confusion Matrix (avg_hrs_month):\\n\", confusion_matrix(y_test, y_pred_avg_hrs_month))\n",
        "print(\"Classification Report (avg_hrs_month):\\n\", classification_report(y_test, y_pred_avg_hrs_month))\n"
      ],
      "metadata": {
        "colab": {
          "base_uri": "https://localhost:8080/"
        },
        "id": "_ZEwM4QjhFbg",
        "outputId": "94d8575d-5d58-41fe-f840-508253ac13a6"
      },
      "id": "_ZEwM4QjhFbg",
      "execution_count": 15,
      "outputs": [
        {
          "output_type": "stream",
          "name": "stdout",
          "text": [
            "Accuracy (avg_hrs_month): 0.6970649895178197\n",
            "Confusion Matrix (avg_hrs_month):\n",
            " [[1330    0]\n",
            " [ 578    0]]\n",
            "Classification Report (avg_hrs_month):\n",
            "               precision    recall  f1-score   support\n",
            "\n",
            "          no       0.70      1.00      0.82      1330\n",
            "         yes       0.00      0.00      0.00       578\n",
            "\n",
            "    accuracy                           0.70      1908\n",
            "   macro avg       0.35      0.50      0.41      1908\n",
            "weighted avg       0.49      0.70      0.57      1908\n",
            "\n"
          ]
        },
        {
          "output_type": "stream",
          "name": "stderr",
          "text": [
            "/usr/local/lib/python3.10/dist-packages/sklearn/metrics/_classification.py:1344: UndefinedMetricWarning: Precision and F-score are ill-defined and being set to 0.0 in labels with no predicted samples. Use `zero_division` parameter to control this behavior.\n",
            "  _warn_prf(average, modifier, msg_start, len(result))\n",
            "/usr/local/lib/python3.10/dist-packages/sklearn/metrics/_classification.py:1344: UndefinedMetricWarning: Precision and F-score are ill-defined and being set to 0.0 in labels with no predicted samples. Use `zero_division` parameter to control this behavior.\n",
            "  _warn_prf(average, modifier, msg_start, len(result))\n",
            "/usr/local/lib/python3.10/dist-packages/sklearn/metrics/_classification.py:1344: UndefinedMetricWarning: Precision and F-score are ill-defined and being set to 0.0 in labels with no predicted samples. Use `zero_division` parameter to control this behavior.\n",
            "  _warn_prf(average, modifier, msg_start, len(result))\n"
          ]
        }
      ]
    },
    {
      "cell_type": "markdown",
      "source": [
        "Logistic Regression for \"review\""
      ],
      "metadata": {
        "id": "UnM_2FxnhOG8"
      },
      "id": "UnM_2FxnhOG8"
    },
    {
      "cell_type": "code",
      "source": [
        "# Create a DataFrame with only the \"review\" feature\n",
        "X_review = data[['review']]\n",
        "\n",
        "# Split the data into training and testing sets\n",
        "X_train_review, X_test_review, y_train, y_test = train_test_split(X_review, y, test_size=0.2, random_state=42)\n",
        "\n",
        "# Create and train the logistic regression model\n",
        "logistic_regression_review = LogisticRegression()\n",
        "logistic_regression_review.fit(X_train_review, y_train)\n",
        "\n",
        "# Predict on the test set\n",
        "y_pred_review = logistic_regression_review.predict(X_test_review)\n",
        "\n",
        "# Evaluate the model\n",
        "print(\"Accuracy (review):\", accuracy_score(y_test, y_pred_review))\n",
        "print(\"Confusion Matrix (review):\\n\", confusion_matrix(y_test, y_pred_review))\n",
        "print(\"Classification Report (review):\\n\", classification_report(y_test, y_pred_review))\n"
      ],
      "metadata": {
        "colab": {
          "base_uri": "https://localhost:8080/"
        },
        "id": "f5WjgC-MhQh8",
        "outputId": "6cf59818-ac75-41b7-e58e-825d3015ed75"
      },
      "id": "f5WjgC-MhQh8",
      "execution_count": 16,
      "outputs": [
        {
          "output_type": "stream",
          "name": "stdout",
          "text": [
            "Accuracy (review): 0.7426624737945493\n",
            "Confusion Matrix (review):\n",
            " [[1300   30]\n",
            " [ 461  117]]\n",
            "Classification Report (review):\n",
            "               precision    recall  f1-score   support\n",
            "\n",
            "          no       0.74      0.98      0.84      1330\n",
            "         yes       0.80      0.20      0.32       578\n",
            "\n",
            "    accuracy                           0.74      1908\n",
            "   macro avg       0.77      0.59      0.58      1908\n",
            "weighted avg       0.76      0.74      0.68      1908\n",
            "\n"
          ]
        }
      ]
    },
    {
      "cell_type": "markdown",
      "source": [
        "Модель задоволеності: як модель \"satisfaction\", так і модель \"avg_hrs_month\" мають низьку точність, що свідчить про те, що ці моделі неефективно прогнозують плинність кадрів. Насправді, здається, вони передбачають лише один клас (0), а не інший (1), що призводить до великої кількості помилкових негативів (працівники, які фактично звільнилися, але за прогнозами не підуть).\n",
        "\n",
        "Модель review: модель «review» має вищу точність порівняно з двома іншими моделями. Вона також має менше помилкових негативів, що вказує на певну передбачувану здатність. Проте ще є місце для вдосконалення."
      ],
      "metadata": {
        "id": "GBgLzobSi5FM"
      },
      "id": "GBgLzobSi5FM"
    },
    {
      "cell_type": "markdown",
      "source": [
        "Дослідимо взаємодію моделей та здатність передбачувати плинність кадрів за допомогою ансамблю моделей"
      ],
      "metadata": {
        "id": "idBtI_USvyq9"
      },
      "id": "idBtI_USvyq9"
    },
    {
      "cell_type": "markdown",
      "source": [
        "Ensemble Models"
      ],
      "metadata": {
        "id": "7GAqypzoiW8T"
      },
      "id": "7GAqypzoiW8T"
    },
    {
      "cell_type": "code",
      "source": [
        "from sklearn.ensemble import RandomForestClassifier, VotingClassifier\n",
        "\n",
        "# Create a Random Forest classifier\n",
        "random_forest = RandomForestClassifier(random_state=42)\n",
        "\n",
        "# Split the data into training and testing sets for the Random Forest model\n",
        "X_train_rf, X_test_rf, _, _ = train_test_split(X, y, test_size=0.2, random_state=42)\n",
        "\n",
        "# Train the Random Forest model\n",
        "random_forest.fit(X_train_rf, y_train)\n",
        "\n",
        "# Create a VotingClassifier that combines the logistic regression \"review\" model and the Random Forest model\n",
        "ensemble_model = VotingClassifier(estimators=[\n",
        "    ('logistic_review', logistic_regression_review),\n",
        "    ('random_forest', random_forest)\n",
        "], voting='soft')  # 'soft' voting uses class probabilities for decision\n",
        "\n",
        "# Train the ensemble model\n",
        "ensemble_model.fit(X_train_rf, y_train)\n",
        "\n",
        "# Predict on the test set using the ensemble model\n",
        "y_pred_ensemble = ensemble_model.predict(X_test_rf)\n",
        "\n",
        "# Evaluate the ensemble model\n",
        "print(\"Accuracy (Ensemble Model):\", accuracy_score(y_test, y_pred_ensemble))\n",
        "print(\"Confusion Matrix (Ensemble Model):\\n\", confusion_matrix(y_test, y_pred_ensemble))\n",
        "print(\"Classification Report (Ensemble Model):\\n\", classification_report(y_test, y_pred_ensemble))\n"
      ],
      "metadata": {
        "colab": {
          "base_uri": "https://localhost:8080/"
        },
        "id": "DqvfUN-NiTdC",
        "outputId": "6e8565a2-16c4-452b-d3a3-750fc6708394"
      },
      "id": "DqvfUN-NiTdC",
      "execution_count": 35,
      "outputs": [
        {
          "output_type": "stream",
          "name": "stderr",
          "text": [
            "/usr/local/lib/python3.10/dist-packages/sklearn/linear_model/_logistic.py:458: ConvergenceWarning: lbfgs failed to converge (status=1):\n",
            "STOP: TOTAL NO. of ITERATIONS REACHED LIMIT.\n",
            "\n",
            "Increase the number of iterations (max_iter) or scale the data as shown in:\n",
            "    https://scikit-learn.org/stable/modules/preprocessing.html\n",
            "Please also refer to the documentation for alternative solver options:\n",
            "    https://scikit-learn.org/stable/modules/linear_model.html#logistic-regression\n",
            "  n_iter_i = _check_optimize_result(\n"
          ]
        },
        {
          "output_type": "stream",
          "name": "stdout",
          "text": [
            "Accuracy (Ensemble Model): 0.8490566037735849\n",
            "Confusion Matrix (Ensemble Model):\n",
            " [[1275   55]\n",
            " [ 233  345]]\n",
            "Classification Report (Ensemble Model):\n",
            "               precision    recall  f1-score   support\n",
            "\n",
            "          no       0.85      0.96      0.90      1330\n",
            "         yes       0.86      0.60      0.71       578\n",
            "\n",
            "    accuracy                           0.85      1908\n",
            "   macro avg       0.85      0.78      0.80      1908\n",
            "weighted avg       0.85      0.85      0.84      1908\n",
            "\n"
          ]
        }
      ]
    },
    {
      "cell_type": "markdown",
      "source": [
        "На основі результатів моделі ансамблю, яка поєднує модель «огляду» логістичної регресії та модель випадкового лісу, ви досягли значного підвищення точності приблизно на 85%. Ось короткий виклад висновків і рекомендацій для відділу кадрів:\n",
        "\n",
        "1. Покращена продуктивність моделі:\n",
        "\n",
        "Ансамблева модель, яка поєднує модель логістичної регресії \"огляд\" і модель випадкового лісу, показала гарні результати в прогнозуванні плинності кадрів. Вона має відносно високу точність 85%, що вказує на те, що вона краще ідентифікує працівників, які, ймовірно, покинуть компанію, порівняно з окремими моделями.\n",
        "\n",
        "2. Ключові фактори:\n",
        "\n",
        "Функція «review» була визначена як важливий фактор у прогнозуванні плинності кадрів. Це означає, що оцінка, яку працівники отримують під час останньої співбесіди з керівником відділу, відіграє вирішальну роль у визначенні того, чи ймовірно вони підуть чи залишаться.\n",
        "\n",
        "3. Рекомендації для HR:\n",
        "\n",
        "Виходячи з цих висновків, можна дати наступні рекомендації відділу кадрів щодо зниження плинності кадрів:\n",
        "\n",
        "a. Зосередьтеся на відгуках співробітників: зверніть увагу на відгуки та оцінки, надані під час останніх співбесід співробітників з керівниками відділів. Визначте закономірності або загальні проблеми, згадані в цих оцінках, і вживіть заходів для їх вирішення.\n",
        "\n",
        "b. Залучення та комунікація: покращуйте комунікацію між керівництвом і співробітниками. Переконайтесь, що співробітники відчувають себе почутими та що їхні проблеми вирішуються негайно.\n",
        "\n",
        "в. Стратегії утримання: розробляйте та впроваджуйте стратегії утримання співробітників на основі інформації з відгуків співробітників. Це може включати програми наставництва, можливості розвитку кар’єри або покращення умов праці.\n",
        "\n",
        "d. Регулярні опитування працівників: подумайте про проведення регулярних опитувань щодо задоволеності працівників, щоб постійно отримувати відгуки від працівників. Використовуйте ці дані, щоб відстежувати зміни в задоволеності роботою та завчасно вирішувати нові проблеми."
      ],
      "metadata": {
        "id": "TflcX7_ojKQ9"
      },
      "id": "TflcX7_ojKQ9"
    },
    {
      "cell_type": "markdown",
      "source": [],
      "metadata": {
        "id": "g2ue1UAqjMWj"
      },
      "id": "g2ue1UAqjMWj"
    }
  ],
  "metadata": {
    "kernelspec": {
      "display_name": "Python 3 (ipykernel)",
      "language": "python",
      "name": "python3"
    },
    "language_info": {
      "codemirror_mode": {
        "name": "ipython",
        "version": 3
      },
      "file_extension": ".py",
      "mimetype": "text/x-python",
      "name": "python",
      "nbconvert_exporter": "python",
      "pygments_lexer": "ipython3",
      "version": "3.9.13"
    },
    "colab": {
      "provenance": []
    }
  },
  "nbformat": 4,
  "nbformat_minor": 5
}
